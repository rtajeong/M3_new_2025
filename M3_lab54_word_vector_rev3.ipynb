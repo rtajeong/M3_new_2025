{
  "nbformat": 4,
  "nbformat_minor": 0,
  "metadata": {
    "colab": {
      "provenance": [],
      "toc_visible": true,
      "include_colab_link": true
    },
    "kernelspec": {
      "display_name": "Python 3",
      "name": "python3"
    },
    "language_info": {
      "codemirror_mode": {
        "name": "ipython",
        "version": 3
      },
      "file_extension": ".py",
      "mimetype": "text/x-python",
      "name": "python",
      "nbconvert_exporter": "python",
      "pygments_lexer": "ipython3",
      "version": "3.6.8"
    }
  },
  "cells": [
    {
      "cell_type": "markdown",
      "metadata": {
        "id": "view-in-github",
        "colab_type": "text"
      },
      "source": [
        "<a href=\"https://colab.research.google.com/github/rtajeong/M3_new_2025/blob/main/M3_lab54_word_vector_rev3.ipynb\" target=\"_parent\"><img src=\"https://colab.research.google.com/assets/colab-badge.svg\" alt=\"Open In Colab\"/></a>"
      ]
    },
    {
      "cell_type": "markdown",
      "metadata": {
        "id": "RSiTy5MDXBnt"
      },
      "source": [
        "# 단어벡터 (Word Vector or Word Embedding)\n",
        "- 빅카인즈 뉴스기사 데이터 활용(https://www.bigkinds.or.kr/)\n",
        "- 앞에서의 텍스트 코딩 방식인 One-hot encoding, BoW(단어모음), 문서-단어 행렬 방식은 모두 단어마다 고유번호를 배정하여 사용함. 그러나 이 번호들에는 아무런 의미가 포함되어 있지 않고 단지 인덱스 역할만.\n",
        "- 대신에 단어를 의미있는 숫자들의 집합, 즉, 벡터로 표현하는 방법이 소개됨 - 단어벡터 (Word Vector)\n",
        "\n",
        "### Word Vector(단어벡터)\n",
        "- 단어를 고차원 공간상의 벡터로 표현함으로 단어간 거리 표현 가능. 차원이 높을수록 정교한 의미 구분 가능.\n",
        "- 보통 50~300 개 정도의 차원을 사용함\n",
        "- 단어간의 거리 (유사도) 뿐 아니라 방향성(벡터)도 찾을 수 있음.\n",
        "- 단어벡터의 각 성분이 어떤 의미를 갖는지는 알 수 없다.\n",
        "*****************"
      ]
    },
    {
      "cell_type": "markdown",
      "metadata": {
        "id": "6VHnsDHlXBn7"
      },
      "source": [
        "# 한국어 뉴스를 이용한 단어 벡터 생성\n",
        "- 단어 추출: konlpy 의 kkma() 사용\n",
        "- 단어 벡터 생성: gensim 의 word2vec() 사용"
      ]
    },
    {
      "cell_type": "code",
      "metadata": {
        "colab": {
          "base_uri": "https://localhost:8080/"
        },
        "id": "xDM2364masZe",
        "outputId": "58801085-7a61-45ce-9af0-b12e7787ab2f"
      },
      "source": [
        "!pip install konlpy"
      ],
      "execution_count": 14,
      "outputs": [
        {
          "output_type": "stream",
          "name": "stdout",
          "text": [
            "Requirement already satisfied: konlpy in /usr/local/lib/python3.12/dist-packages (0.6.0)\n",
            "Requirement already satisfied: JPype1>=0.7.0 in /usr/local/lib/python3.12/dist-packages (from konlpy) (1.6.0)\n",
            "Requirement already satisfied: lxml>=4.1.0 in /usr/local/lib/python3.12/dist-packages (from konlpy) (5.4.0)\n",
            "Requirement already satisfied: numpy>=1.6 in /usr/local/lib/python3.12/dist-packages (from konlpy) (1.26.4)\n",
            "Requirement already satisfied: packaging in /usr/local/lib/python3.12/dist-packages (from JPype1>=0.7.0->konlpy) (25.0)\n"
          ]
        }
      ]
    },
    {
      "cell_type": "code",
      "metadata": {
        "colab": {
          "base_uri": "https://localhost:8080/"
        },
        "id": "eA2l5lg8X-yR",
        "outputId": "efb55aa4-1387-4a05-c4d4-b7f969734b27"
      },
      "source": [
        "# gensim: library for topic modeling, document indexing and similarity retrieval\n",
        "!pip install gensim"
      ],
      "execution_count": 15,
      "outputs": [
        {
          "output_type": "stream",
          "name": "stdout",
          "text": [
            "Requirement already satisfied: gensim in /usr/local/lib/python3.12/dist-packages (4.3.3)\n",
            "Requirement already satisfied: numpy<2.0,>=1.18.5 in /usr/local/lib/python3.12/dist-packages (from gensim) (1.26.4)\n",
            "Requirement already satisfied: scipy<1.14.0,>=1.7.0 in /usr/local/lib/python3.12/dist-packages (from gensim) (1.13.1)\n",
            "Requirement already satisfied: smart-open>=1.8.1 in /usr/local/lib/python3.12/dist-packages (from gensim) (7.3.1)\n",
            "Requirement already satisfied: wrapt in /usr/local/lib/python3.12/dist-packages (from smart-open>=1.8.1->gensim) (1.17.3)\n"
          ]
        }
      ]
    },
    {
      "cell_type": "code",
      "metadata": {
        "id": "TcpN2NDuXBn9"
      },
      "source": [
        "from konlpy.tag import Kkma     # 형태소 분석 및 자연어 처리 모듈 (서울대)\n",
        "from gensim.models.word2vec import Word2Vec\n",
        "kkma = Kkma()"
      ],
      "execution_count": 16,
      "outputs": []
    },
    {
      "cell_type": "code",
      "metadata": {
        "colab": {
          "base_uri": "https://localhost:8080/"
        },
        "id": "qD19V5SpX-yV",
        "outputId": "f4fae3b9-c9e4-4b6c-b46e-f451e86fa938"
      },
      "source": [
        "# KoNLPy: 형태소 (뜻을 가진 최소 언어 단위) 분석\n",
        "# kkma: Korean morpheme analyzer\n",
        "# https://konlpy.org/ko/latest/morph/#pos-tagging-with-konlpy\n",
        "print(kkma.sentences('네, 안녕하세요. 반갑습니다.'))\n",
        "print(kkma.nouns('질문이나 건의사항은 깃헙 이슈 트래커에 남겨주세요.'))\n",
        "print(kkma.pos('오류보고는 실행환경, 에러메세지와함께 설명을 최대한상세히!^^'))\n",
        "# pos (part-of-speech): 품사 (명사, 동사, ...)"
      ],
      "execution_count": 17,
      "outputs": [
        {
          "output_type": "stream",
          "name": "stdout",
          "text": [
            "['네, 안녕하세요.', '반갑습니다.']\n",
            "['질문', '건의', '건의사항', '사항', '깃헙', '이슈', '트래커']\n",
            "[('오류', 'NNG'), ('보고', 'NNG'), ('는', 'JX'), ('실행', 'NNG'), ('환경', 'NNG'), (',', 'SP'), ('에러', 'NNG'), ('메세지', 'NNG'), ('와', 'JKM'), ('함께', 'MAG'), ('설명', 'NNG'), ('을', 'JKO'), ('최대한', 'NNG'), ('상세히', 'MAG'), ('!', 'SF'), ('^^', 'EMO')]\n"
          ]
        }
      ]
    },
    {
      "cell_type": "markdown",
      "metadata": {
        "id": "7R5lqDRhXBoy"
      },
      "source": [
        "## IT 뉴스기사"
      ]
    },
    {
      "cell_type": "code",
      "metadata": {
        "colab": {
          "base_uri": "https://localhost:8080/"
        },
        "id": "_xmQLbrQqNhq",
        "outputId": "abc59241-9b0a-4d5c-d17a-f50e0bd1ddf6"
      },
      "source": [
        "!wget https://bit.ly/2X7UON2 -O news2018.xlsx   # wget 도 동일"
      ],
      "execution_count": 18,
      "outputs": [
        {
          "output_type": "stream",
          "name": "stdout",
          "text": [
            "--2025-09-20 10:16:46--  https://bit.ly/2X7UON2\n",
            "Resolving bit.ly (bit.ly)... 67.199.248.11, 67.199.248.10\n",
            "Connecting to bit.ly (bit.ly)|67.199.248.11|:443... connected.\n",
            "HTTP request sent, awaiting response... 301 Moved Permanently\n",
            "Location: https://www.dropbox.com/s/gr5jhlshp8m3iqn/NewsResult_20181128-20190228.xlsx [following]\n",
            "--2025-09-20 10:16:46--  https://www.dropbox.com/s/gr5jhlshp8m3iqn/NewsResult_20181128-20190228.xlsx\n",
            "Resolving www.dropbox.com (www.dropbox.com)... 162.125.1.18, 2620:100:6016:18::a27d:112\n",
            "Connecting to www.dropbox.com (www.dropbox.com)|162.125.1.18|:443... connected.\n",
            "HTTP request sent, awaiting response... 302 Found\n",
            "Location: https://www.dropbox.com/scl/fi/p2s6opftbedrfcrzyxbgi/NewsResult_20181128-20190228.xlsx?rlkey=hkpxrl46nqa0mppsqtbkuirdf [following]\n",
            "--2025-09-20 10:16:46--  https://www.dropbox.com/scl/fi/p2s6opftbedrfcrzyxbgi/NewsResult_20181128-20190228.xlsx?rlkey=hkpxrl46nqa0mppsqtbkuirdf\n",
            "Reusing existing connection to www.dropbox.com:443.\n",
            "HTTP request sent, awaiting response... 302 Found\n",
            "Location: https://uc8093d3535a803ba1fc38832dab.dl.dropboxusercontent.com/cd/0/inline/CxtxdDj0uvrNlG2k2zGsudxTx_kYr64My-DmQ_Xpln4tEO79M9b4Q7VGZi2STNcr2sDseFGqYMP37EmALGf1jOXOoN2GxEDudUaRhXH-1ToAM4sNDvBoka1ARjIosSi8fYg/file# [following]\n",
            "--2025-09-20 10:16:47--  https://uc8093d3535a803ba1fc38832dab.dl.dropboxusercontent.com/cd/0/inline/CxtxdDj0uvrNlG2k2zGsudxTx_kYr64My-DmQ_Xpln4tEO79M9b4Q7VGZi2STNcr2sDseFGqYMP37EmALGf1jOXOoN2GxEDudUaRhXH-1ToAM4sNDvBoka1ARjIosSi8fYg/file\n",
            "Resolving uc8093d3535a803ba1fc38832dab.dl.dropboxusercontent.com (uc8093d3535a803ba1fc38832dab.dl.dropboxusercontent.com)... 162.125.1.15, 2620:100:6016:15::a27d:10f\n",
            "Connecting to uc8093d3535a803ba1fc38832dab.dl.dropboxusercontent.com (uc8093d3535a803ba1fc38832dab.dl.dropboxusercontent.com)|162.125.1.15|:443... connected.\n",
            "HTTP request sent, awaiting response... 302 Found\n",
            "Location: /cd/0/inline2/Cxv4W0MpiH80vFC_wF9oAv_YfDq7ZijboMy6umt7vl9AlgBeo9tsHja_eIN3aAWzInIBBzJrPeIuA5AdSrihHBzl3JUoUcrgNYZuAn8vA50_hWTeU9hjebfU-1Y9B0RAXSLjKX-KaLBFd7HvmFxDTrWU8klK0ySQlnbiR_A1LkH6wfKklOMBBLFNjLLn97NaCbe8HM1bF69ieJ6T3GEcC50ahyoPwt7cmJOznpYzZAgj91Ln92oUSgmAC4X2yx6fxkajxAwBXYKmWCQ2HsY2PojPi1-OLKENinl3F516N-tZ6oQ3HhAiMN7MqPIlr76oNFoUTgFRVX7mXg25FhQNseATe170p5Ns5z6uH3zJSea3vw/file [following]\n",
            "--2025-09-20 10:16:47--  https://uc8093d3535a803ba1fc38832dab.dl.dropboxusercontent.com/cd/0/inline2/Cxv4W0MpiH80vFC_wF9oAv_YfDq7ZijboMy6umt7vl9AlgBeo9tsHja_eIN3aAWzInIBBzJrPeIuA5AdSrihHBzl3JUoUcrgNYZuAn8vA50_hWTeU9hjebfU-1Y9B0RAXSLjKX-KaLBFd7HvmFxDTrWU8klK0ySQlnbiR_A1LkH6wfKklOMBBLFNjLLn97NaCbe8HM1bF69ieJ6T3GEcC50ahyoPwt7cmJOznpYzZAgj91Ln92oUSgmAC4X2yx6fxkajxAwBXYKmWCQ2HsY2PojPi1-OLKENinl3F516N-tZ6oQ3HhAiMN7MqPIlr76oNFoUTgFRVX7mXg25FhQNseATe170p5Ns5z6uH3zJSea3vw/file\n",
            "Reusing existing connection to uc8093d3535a803ba1fc38832dab.dl.dropboxusercontent.com:443.\n",
            "HTTP request sent, awaiting response... 200 OK\n",
            "Length: 1832194 (1.7M) [application/vnd.openxmlformats-officedocument.spreadsheetml.sheet]\n",
            "Saving to: ‘news2018.xlsx’\n",
            "\n",
            "news2018.xlsx       100%[===================>]   1.75M  --.-KB/s    in 0.05s   \n",
            "\n",
            "2025-09-20 10:16:48 (32.8 MB/s) - ‘news2018.xlsx’ saved [1832194/1832194]\n",
            "\n"
          ]
        }
      ]
    },
    {
      "cell_type": "code",
      "metadata": {
        "id": "tGECncx5p1oY",
        "colab": {
          "base_uri": "https://localhost:8080/"
        },
        "outputId": "5094f22c-d1e7-40c1-c721-3a40058c98a1"
      },
      "source": [
        "import pandas as pd\n",
        "news = pd.read_excel(\"news2018.xlsx\")"
      ],
      "execution_count": 19,
      "outputs": [
        {
          "output_type": "stream",
          "name": "stderr",
          "text": [
            "/usr/local/lib/python3.12/dist-packages/openpyxl/styles/stylesheet.py:237: UserWarning: Workbook contains no default style, apply openpyxl's default\n",
            "  warn(\"Workbook contains no default style, apply openpyxl's default\")\n"
          ]
        }
      ]
    },
    {
      "cell_type": "code",
      "source": [
        "news.head(2)"
      ],
      "metadata": {
        "id": "0_LQx1YXThuK",
        "colab": {
          "base_uri": "https://localhost:8080/",
          "height": 841
        },
        "outputId": "cca32539-2f84-4554-bb63-6279e64a770f"
      },
      "execution_count": 20,
      "outputs": [
        {
          "output_type": "execute_result",
          "data": {
            "text/plain": [
              "         뉴스 식별자        일자   언론사                        기고자  \\\n",
              "0  1.500401e+06  20190228  국제신문  김태경 기자 tgkim@kookje.co.kr   \n",
              "1  1.200201e+06  20190228  경인일보                        조영상   \n",
              "\n",
              "                                    제목   통합 분류1  통합 분류2 통합 분류3 사건/사고 분류1  \\\n",
              "0       빅딜이냐 스몰딜이냐 ‘영변 핵+α’ 로드맵 도출이 관건    정치>북한   정치>외교    NaN       NaN   \n",
              "1  하노이 도착후 실무대표단 청취 김정은, 북미회담 성공 '잰걸음'  국제>국제일반   정치>북한    NaN       NaN   \n",
              "\n",
              "  사건/사고 분류2 사건/사고 분류3                 인물                        위치  \\\n",
              "0       NaN       NaN  김,도널드 트럼프,김의겸,김정은  북미,미국,하노이,서울,싱가포르,북한,리비아   \n",
              "1       NaN       NaN                  김                북미,하노이,베트남   \n",
              "\n",
              "                                기관  \\\n",
              "0  북미,북미 정상회,미국,청와대,북미 정상회담,북한,국무위   \n",
              "1                       조선중앙통신,국무위   \n",
              "\n",
              "                                                 키워드  \\\n",
              "0  빅딜,스몰딜,영변,로드맵,도출,비핵화,수준,상응,조치,막판,양국,협상팀,밀당,1차,...   \n",
              "1  하노이,도착,실무대표단,청취,김정은,잰걸음,북미회담,성공,김정은,국무,위원장,시작,...   \n",
              "\n",
              "                                                특성추출  \\\n",
              "0  북미,비핵화,미국,스몰딜,1차,정상회담,김정은,종전선언,연락사무소,하노이,영변,대변...   \n",
              "1  실무대표단,하노이,김정은,위원장,베트남,북미정상회담,북미회담,정상회담,조선중앙통신,...   \n",
              "\n",
              "                                                  본문  \\\n",
              "0  - 비핵화 수준 상응 조치 놓고\\n- 양국 협상팀 막판까지 ‘밀당’\\n- 1차 때와...   \n",
              "1  김정은 국무위원장이 27일 시작되는 제2차 북미정상회담 성공을 위해 심혈을 기울이고...   \n",
              "\n",
              "                                                 URL 분석제외 여부  \n",
              "0  http://www.kookje.co.kr/news2011/asp/newsbody....     NaN  \n",
              "1  http://www.kyeongin.com/main/view.php?key=2019...     NaN  "
            ],
            "text/html": [
              "\n",
              "  <div id=\"df-c78b68be-37a5-45c0-9967-5ea653acb367\" class=\"colab-df-container\">\n",
              "    <div>\n",
              "<style scoped>\n",
              "    .dataframe tbody tr th:only-of-type {\n",
              "        vertical-align: middle;\n",
              "    }\n",
              "\n",
              "    .dataframe tbody tr th {\n",
              "        vertical-align: top;\n",
              "    }\n",
              "\n",
              "    .dataframe thead th {\n",
              "        text-align: right;\n",
              "    }\n",
              "</style>\n",
              "<table border=\"1\" class=\"dataframe\">\n",
              "  <thead>\n",
              "    <tr style=\"text-align: right;\">\n",
              "      <th></th>\n",
              "      <th>뉴스 식별자</th>\n",
              "      <th>일자</th>\n",
              "      <th>언론사</th>\n",
              "      <th>기고자</th>\n",
              "      <th>제목</th>\n",
              "      <th>통합 분류1</th>\n",
              "      <th>통합 분류2</th>\n",
              "      <th>통합 분류3</th>\n",
              "      <th>사건/사고 분류1</th>\n",
              "      <th>사건/사고 분류2</th>\n",
              "      <th>사건/사고 분류3</th>\n",
              "      <th>인물</th>\n",
              "      <th>위치</th>\n",
              "      <th>기관</th>\n",
              "      <th>키워드</th>\n",
              "      <th>특성추출</th>\n",
              "      <th>본문</th>\n",
              "      <th>URL</th>\n",
              "      <th>분석제외 여부</th>\n",
              "    </tr>\n",
              "  </thead>\n",
              "  <tbody>\n",
              "    <tr>\n",
              "      <th>0</th>\n",
              "      <td>1.500401e+06</td>\n",
              "      <td>20190228</td>\n",
              "      <td>국제신문</td>\n",
              "      <td>김태경 기자 tgkim@kookje.co.kr</td>\n",
              "      <td>빅딜이냐 스몰딜이냐 ‘영변 핵+α’ 로드맵 도출이 관건</td>\n",
              "      <td>정치&gt;북한</td>\n",
              "      <td>정치&gt;외교</td>\n",
              "      <td>NaN</td>\n",
              "      <td>NaN</td>\n",
              "      <td>NaN</td>\n",
              "      <td>NaN</td>\n",
              "      <td>김,도널드 트럼프,김의겸,김정은</td>\n",
              "      <td>북미,미국,하노이,서울,싱가포르,북한,리비아</td>\n",
              "      <td>북미,북미 정상회,미국,청와대,북미 정상회담,북한,국무위</td>\n",
              "      <td>빅딜,스몰딜,영변,로드맵,도출,비핵화,수준,상응,조치,막판,양국,협상팀,밀당,1차,...</td>\n",
              "      <td>북미,비핵화,미국,스몰딜,1차,정상회담,김정은,종전선언,연락사무소,하노이,영변,대변...</td>\n",
              "      <td>- 비핵화 수준 상응 조치 놓고\\n- 양국 협상팀 막판까지 ‘밀당’\\n- 1차 때와...</td>\n",
              "      <td>http://www.kookje.co.kr/news2011/asp/newsbody....</td>\n",
              "      <td>NaN</td>\n",
              "    </tr>\n",
              "    <tr>\n",
              "      <th>1</th>\n",
              "      <td>1.200201e+06</td>\n",
              "      <td>20190228</td>\n",
              "      <td>경인일보</td>\n",
              "      <td>조영상</td>\n",
              "      <td>하노이 도착후 실무대표단 청취 김정은, 북미회담 성공 '잰걸음'</td>\n",
              "      <td>국제&gt;국제일반</td>\n",
              "      <td>정치&gt;북한</td>\n",
              "      <td>NaN</td>\n",
              "      <td>NaN</td>\n",
              "      <td>NaN</td>\n",
              "      <td>NaN</td>\n",
              "      <td>김</td>\n",
              "      <td>북미,하노이,베트남</td>\n",
              "      <td>조선중앙통신,국무위</td>\n",
              "      <td>하노이,도착,실무대표단,청취,김정은,잰걸음,북미회담,성공,김정은,국무,위원장,시작,...</td>\n",
              "      <td>실무대표단,하노이,김정은,위원장,베트남,북미정상회담,북미회담,정상회담,조선중앙통신,...</td>\n",
              "      <td>김정은 국무위원장이 27일 시작되는 제2차 북미정상회담 성공을 위해 심혈을 기울이고...</td>\n",
              "      <td>http://www.kyeongin.com/main/view.php?key=2019...</td>\n",
              "      <td>NaN</td>\n",
              "    </tr>\n",
              "  </tbody>\n",
              "</table>\n",
              "</div>\n",
              "    <div class=\"colab-df-buttons\">\n",
              "\n",
              "  <div class=\"colab-df-container\">\n",
              "    <button class=\"colab-df-convert\" onclick=\"convertToInteractive('df-c78b68be-37a5-45c0-9967-5ea653acb367')\"\n",
              "            title=\"Convert this dataframe to an interactive table.\"\n",
              "            style=\"display:none;\">\n",
              "\n",
              "  <svg xmlns=\"http://www.w3.org/2000/svg\" height=\"24px\" viewBox=\"0 -960 960 960\">\n",
              "    <path d=\"M120-120v-720h720v720H120Zm60-500h600v-160H180v160Zm220 220h160v-160H400v160Zm0 220h160v-160H400v160ZM180-400h160v-160H180v160Zm440 0h160v-160H620v160ZM180-180h160v-160H180v160Zm440 0h160v-160H620v160Z\"/>\n",
              "  </svg>\n",
              "    </button>\n",
              "\n",
              "  <style>\n",
              "    .colab-df-container {\n",
              "      display:flex;\n",
              "      gap: 12px;\n",
              "    }\n",
              "\n",
              "    .colab-df-convert {\n",
              "      background-color: #E8F0FE;\n",
              "      border: none;\n",
              "      border-radius: 50%;\n",
              "      cursor: pointer;\n",
              "      display: none;\n",
              "      fill: #1967D2;\n",
              "      height: 32px;\n",
              "      padding: 0 0 0 0;\n",
              "      width: 32px;\n",
              "    }\n",
              "\n",
              "    .colab-df-convert:hover {\n",
              "      background-color: #E2EBFA;\n",
              "      box-shadow: 0px 1px 2px rgba(60, 64, 67, 0.3), 0px 1px 3px 1px rgba(60, 64, 67, 0.15);\n",
              "      fill: #174EA6;\n",
              "    }\n",
              "\n",
              "    .colab-df-buttons div {\n",
              "      margin-bottom: 4px;\n",
              "    }\n",
              "\n",
              "    [theme=dark] .colab-df-convert {\n",
              "      background-color: #3B4455;\n",
              "      fill: #D2E3FC;\n",
              "    }\n",
              "\n",
              "    [theme=dark] .colab-df-convert:hover {\n",
              "      background-color: #434B5C;\n",
              "      box-shadow: 0px 1px 3px 1px rgba(0, 0, 0, 0.15);\n",
              "      filter: drop-shadow(0px 1px 2px rgba(0, 0, 0, 0.3));\n",
              "      fill: #FFFFFF;\n",
              "    }\n",
              "  </style>\n",
              "\n",
              "    <script>\n",
              "      const buttonEl =\n",
              "        document.querySelector('#df-c78b68be-37a5-45c0-9967-5ea653acb367 button.colab-df-convert');\n",
              "      buttonEl.style.display =\n",
              "        google.colab.kernel.accessAllowed ? 'block' : 'none';\n",
              "\n",
              "      async function convertToInteractive(key) {\n",
              "        const element = document.querySelector('#df-c78b68be-37a5-45c0-9967-5ea653acb367');\n",
              "        const dataTable =\n",
              "          await google.colab.kernel.invokeFunction('convertToInteractive',\n",
              "                                                    [key], {});\n",
              "        if (!dataTable) return;\n",
              "\n",
              "        const docLinkHtml = 'Like what you see? Visit the ' +\n",
              "          '<a target=\"_blank\" href=https://colab.research.google.com/notebooks/data_table.ipynb>data table notebook</a>'\n",
              "          + ' to learn more about interactive tables.';\n",
              "        element.innerHTML = '';\n",
              "        dataTable['output_type'] = 'display_data';\n",
              "        await google.colab.output.renderOutput(dataTable, element);\n",
              "        const docLink = document.createElement('div');\n",
              "        docLink.innerHTML = docLinkHtml;\n",
              "        element.appendChild(docLink);\n",
              "      }\n",
              "    </script>\n",
              "  </div>\n",
              "\n",
              "\n",
              "    <div id=\"df-934a0a85-5d3e-4b9e-964e-8c7c60553efa\">\n",
              "      <button class=\"colab-df-quickchart\" onclick=\"quickchart('df-934a0a85-5d3e-4b9e-964e-8c7c60553efa')\"\n",
              "                title=\"Suggest charts\"\n",
              "                style=\"display:none;\">\n",
              "\n",
              "<svg xmlns=\"http://www.w3.org/2000/svg\" height=\"24px\"viewBox=\"0 0 24 24\"\n",
              "     width=\"24px\">\n",
              "    <g>\n",
              "        <path d=\"M19 3H5c-1.1 0-2 .9-2 2v14c0 1.1.9 2 2 2h14c1.1 0 2-.9 2-2V5c0-1.1-.9-2-2-2zM9 17H7v-7h2v7zm4 0h-2V7h2v10zm4 0h-2v-4h2v4z\"/>\n",
              "    </g>\n",
              "</svg>\n",
              "      </button>\n",
              "\n",
              "<style>\n",
              "  .colab-df-quickchart {\n",
              "      --bg-color: #E8F0FE;\n",
              "      --fill-color: #1967D2;\n",
              "      --hover-bg-color: #E2EBFA;\n",
              "      --hover-fill-color: #174EA6;\n",
              "      --disabled-fill-color: #AAA;\n",
              "      --disabled-bg-color: #DDD;\n",
              "  }\n",
              "\n",
              "  [theme=dark] .colab-df-quickchart {\n",
              "      --bg-color: #3B4455;\n",
              "      --fill-color: #D2E3FC;\n",
              "      --hover-bg-color: #434B5C;\n",
              "      --hover-fill-color: #FFFFFF;\n",
              "      --disabled-bg-color: #3B4455;\n",
              "      --disabled-fill-color: #666;\n",
              "  }\n",
              "\n",
              "  .colab-df-quickchart {\n",
              "    background-color: var(--bg-color);\n",
              "    border: none;\n",
              "    border-radius: 50%;\n",
              "    cursor: pointer;\n",
              "    display: none;\n",
              "    fill: var(--fill-color);\n",
              "    height: 32px;\n",
              "    padding: 0;\n",
              "    width: 32px;\n",
              "  }\n",
              "\n",
              "  .colab-df-quickchart:hover {\n",
              "    background-color: var(--hover-bg-color);\n",
              "    box-shadow: 0 1px 2px rgba(60, 64, 67, 0.3), 0 1px 3px 1px rgba(60, 64, 67, 0.15);\n",
              "    fill: var(--button-hover-fill-color);\n",
              "  }\n",
              "\n",
              "  .colab-df-quickchart-complete:disabled,\n",
              "  .colab-df-quickchart-complete:disabled:hover {\n",
              "    background-color: var(--disabled-bg-color);\n",
              "    fill: var(--disabled-fill-color);\n",
              "    box-shadow: none;\n",
              "  }\n",
              "\n",
              "  .colab-df-spinner {\n",
              "    border: 2px solid var(--fill-color);\n",
              "    border-color: transparent;\n",
              "    border-bottom-color: var(--fill-color);\n",
              "    animation:\n",
              "      spin 1s steps(1) infinite;\n",
              "  }\n",
              "\n",
              "  @keyframes spin {\n",
              "    0% {\n",
              "      border-color: transparent;\n",
              "      border-bottom-color: var(--fill-color);\n",
              "      border-left-color: var(--fill-color);\n",
              "    }\n",
              "    20% {\n",
              "      border-color: transparent;\n",
              "      border-left-color: var(--fill-color);\n",
              "      border-top-color: var(--fill-color);\n",
              "    }\n",
              "    30% {\n",
              "      border-color: transparent;\n",
              "      border-left-color: var(--fill-color);\n",
              "      border-top-color: var(--fill-color);\n",
              "      border-right-color: var(--fill-color);\n",
              "    }\n",
              "    40% {\n",
              "      border-color: transparent;\n",
              "      border-right-color: var(--fill-color);\n",
              "      border-top-color: var(--fill-color);\n",
              "    }\n",
              "    60% {\n",
              "      border-color: transparent;\n",
              "      border-right-color: var(--fill-color);\n",
              "    }\n",
              "    80% {\n",
              "      border-color: transparent;\n",
              "      border-right-color: var(--fill-color);\n",
              "      border-bottom-color: var(--fill-color);\n",
              "    }\n",
              "    90% {\n",
              "      border-color: transparent;\n",
              "      border-bottom-color: var(--fill-color);\n",
              "    }\n",
              "  }\n",
              "</style>\n",
              "\n",
              "      <script>\n",
              "        async function quickchart(key) {\n",
              "          const quickchartButtonEl =\n",
              "            document.querySelector('#' + key + ' button');\n",
              "          quickchartButtonEl.disabled = true;  // To prevent multiple clicks.\n",
              "          quickchartButtonEl.classList.add('colab-df-spinner');\n",
              "          try {\n",
              "            const charts = await google.colab.kernel.invokeFunction(\n",
              "                'suggestCharts', [key], {});\n",
              "          } catch (error) {\n",
              "            console.error('Error during call to suggestCharts:', error);\n",
              "          }\n",
              "          quickchartButtonEl.classList.remove('colab-df-spinner');\n",
              "          quickchartButtonEl.classList.add('colab-df-quickchart-complete');\n",
              "        }\n",
              "        (() => {\n",
              "          let quickchartButtonEl =\n",
              "            document.querySelector('#df-934a0a85-5d3e-4b9e-964e-8c7c60553efa button');\n",
              "          quickchartButtonEl.style.display =\n",
              "            google.colab.kernel.accessAllowed ? 'block' : 'none';\n",
              "        })();\n",
              "      </script>\n",
              "    </div>\n",
              "\n",
              "    </div>\n",
              "  </div>\n"
            ],
            "application/vnd.google.colaboratory.intrinsic+json": {
              "type": "dataframe",
              "variable_name": "news",
              "summary": "{\n  \"name\": \"news\",\n  \"rows\": 1543,\n  \"fields\": [\n    {\n      \"column\": \"\\ub274\\uc2a4 \\uc2dd\\ubcc4\\uc790\",\n      \"properties\": {\n        \"dtype\": \"number\",\n        \"std\": 2767084.2865777155,\n        \"min\": 1100101.201812272,\n        \"max\": 8200101.201902272,\n        \"num_unique_values\": 982,\n        \"samples\": [\n          1101101.20190108,\n          1500801.20190109,\n          2100101.201901022\n        ],\n        \"semantic_type\": \"\",\n        \"description\": \"\"\n      }\n    },\n    {\n      \"column\": \"\\uc77c\\uc790\",\n      \"properties\": {\n        \"dtype\": \"number\",\n        \"std\": 2460,\n        \"min\": 20181128,\n        \"max\": 20190228,\n        \"num_unique_values\": 87,\n        \"samples\": [\n          20181208,\n          20190228,\n          20190202\n        ],\n        \"semantic_type\": \"\",\n        \"description\": \"\"\n      }\n    },\n    {\n      \"column\": \"\\uc5b8\\ub860\\uc0ac\",\n      \"properties\": {\n        \"dtype\": \"category\",\n        \"num_unique_values\": 50,\n        \"samples\": [\n          \"\\uc138\\uacc4\\uc77c\\ubcf4\",\n          \"\\ub300\\uc804\\uc77c\\ubcf4\",\n          \"\\ud55c\\ub77c\\uc77c\\ubcf4\"\n        ],\n        \"semantic_type\": \"\",\n        \"description\": \"\"\n      }\n    },\n    {\n      \"column\": \"\\uae30\\uace0\\uc790\",\n      \"properties\": {\n        \"dtype\": \"category\",\n        \"num_unique_values\": 491,\n        \"samples\": [\n          \"\\uc774\\uc7ac\\uc6d0 , \\ubc15\\uc2b9\\ub450 \\uc778\\ud134|\\uae30\\uc790\",\n          \"\\ub77c\\ub2e4\\uc19c\",\n          \"\\uace0\\uad11\\ubcf8 \\uae30\\uc790\"\n        ],\n        \"semantic_type\": \"\",\n        \"description\": \"\"\n      }\n    },\n    {\n      \"column\": \"\\uc81c\\ubaa9\",\n      \"properties\": {\n        \"dtype\": \"string\",\n        \"num_unique_values\": 1447,\n        \"samples\": [\n          \"\\uae40\\uc815\\uc740 \\uce5c\\uc11c \\ubc1b\\uace0\\ub3c4 '\\uce68\\ubb35' \\uc9c0\\ud0a8 \\ud2b8\\ub7fc\\ud504 \\uc774\\uc720\\ub294?\",\n          \"\\ube44\\uac74-\\uae40\\ud601\\ucca0, \\ud558\\ub178\\uc774\\uc11c \\uccab \\ub300\\uc88c \\ubd81\\ubbf8 \\uc758\\uc81c\\ud611\\uc0c1 \\ubcf8\\uaca9\\ud654 \\uad00\\uce21\",\n          \"\\u9751 \\\"2\\ucc28 \\ubd81\\ubbf8\\ud68c\\ub2f4 '\\ud658\\uc601' \\uad6c\\uccb4 \\uc2e4\\uc9c8\\uc801 \\uc9c4\\uc804 \\uae30\\ub300\\\"\"\n        ],\n        \"semantic_type\": \"\",\n        \"description\": \"\"\n      }\n    },\n    {\n      \"column\": \"\\ud1b5\\ud569 \\ubd84\\ub9581\",\n      \"properties\": {\n        \"dtype\": \"category\",\n        \"num_unique_values\": 42,\n        \"samples\": [\n          \"\\uacbd\\uc81c>\\uae08\\uc735_\\uc7ac\\ud14c\\ud06c\",\n          \"\\uacbd\\uc81c>\\uad6d\\uc81c\\uacbd\\uc81c\",\n          \"\\uc0ac\\ud68c>\\uc5ec\\uc131\"\n        ],\n        \"semantic_type\": \"\",\n        \"description\": \"\"\n      }\n    },\n    {\n      \"column\": \"\\ud1b5\\ud569 \\ubd84\\ub9582\",\n      \"properties\": {\n        \"dtype\": \"category\",\n        \"num_unique_values\": 37,\n        \"samples\": [\n          \" \\uacbd\\uc81c>\\uc678\\ud658\",\n          \" \\uc815\\uce58>\\ud589\\uc815_\\uc790\\uce58\",\n          \" \\ubb38\\ud654>\\ucd9c\\ud310\"\n        ],\n        \"semantic_type\": \"\",\n        \"description\": \"\"\n      }\n    },\n    {\n      \"column\": \"\\ud1b5\\ud569 \\ubd84\\ub9583\",\n      \"properties\": {\n        \"dtype\": \"category\",\n        \"num_unique_values\": 30,\n        \"samples\": [\n          \" \\uacbd\\uc81c>\\ubb34\\uc5ed\",\n          \" \\uad6d\\uc81c>\\ubbf8\\uad6d_\\ubd81\\ubbf8\",\n          \" \\uad6d\\uc81c>\\uc720\\ub7fd_EU\"\n        ],\n        \"semantic_type\": \"\",\n        \"description\": \"\"\n      }\n    },\n    {\n      \"column\": \"\\uc0ac\\uac74/\\uc0ac\\uace0 \\ubd84\\ub9581\",\n      \"properties\": {\n        \"dtype\": \"category\",\n        \"num_unique_values\": 23,\n        \"samples\": [\n          \"\\uc0ac\\ud68c>\\uc0ac\\ud68c\\uac08\\ub4f1>\\ubc18\\ub780_\\ud601\\uba85_\\ud3ed\\ub3d9\",\n          \"\\ubc94\\uc8c4>\\uae30\\uc5c5\\ubc94\\uc8c4>\\uac70\\ub798\\uc81c\\ud55c\",\n          \"\\uc0ac\\uace0>\\uad50\\ud1b5\\uc0ac\\uace0>\\ub178\\uc0c1\\uc0ac\\uace0\"\n        ],\n        \"semantic_type\": \"\",\n        \"description\": \"\"\n      }\n    },\n    {\n      \"column\": \"\\uc0ac\\uac74/\\uc0ac\\uace0 \\ubd84\\ub9582\",\n      \"properties\": {\n        \"dtype\": \"category\",\n        \"num_unique_values\": 9,\n        \"samples\": [\n          \" \\uc0ac\\uace0>\\uc0b0\\uc5c5\\uc0ac\\uace0>\\ud654\\uc7ac\",\n          \" \\ubc94\\uc8c4>\\uc815\\uce58>\\ub1cc\\ubb3c\\uc218\\uc218\",\n          \" \\ubc94\\uc8c4>\\ubc94\\uc8c4\\uc77c\\ubc18>\\ud3ed\\ud589\"\n        ],\n        \"semantic_type\": \"\",\n        \"description\": \"\"\n      }\n    },\n    {\n      \"column\": \"\\uc0ac\\uac74/\\uc0ac\\uace0 \\ubd84\\ub9583\",\n      \"properties\": {\n        \"dtype\": \"category\",\n        \"num_unique_values\": 3,\n        \"samples\": [\n          \" \\uc0ac\\uace0>\\uc0b0\\uc5c5\\uc0ac\\uace0>\\ud654\\uc7ac\",\n          \" \\uc0ac\\ud68c>\\uc0ac\\ud68c\\uac08\\ub4f1>\\uc2dc\\uc704\",\n          \" \\uc0ac\\ud68c>\\uc0ac\\ud68c\\ubb38\\uc81c>\\ub178\\uc608\"\n        ],\n        \"semantic_type\": \"\",\n        \"description\": \"\"\n      }\n    },\n    {\n      \"column\": \"\\uc778\\ubb3c\",\n      \"properties\": {\n        \"dtype\": \"string\",\n        \"num_unique_values\": 1169,\n        \"samples\": [\n          \"\\ub3c4\\ub110\\ub4dc \\ud2b8\\ub7fc\\ud504,\\uae40\\uc758\\uacb8,\\uae40\\uc815\\uc740,\\uc2dc\\uc9c4\\ud551,\\ud2b8\\ub7fc\\ud504\",\n          \"\\uae40,\\uc815\\uacbd\\ud0dd,\\ucd5c\\ub8e1\\ud574,\\ub9ac\\uc6a9\\ud638,\\ubc15\\uad11\\ud638,\\uae40\\uc815\\uc740,\\uc2dc\\uc9c4\\ud551\",\n          \"\\ub098\\ud3f4\\ub808\\uc639\"\n        ],\n        \"semantic_type\": \"\",\n        \"description\": \"\"\n      }\n    },\n    {\n      \"column\": \"\\uc704\\uce58\",\n      \"properties\": {\n        \"dtype\": \"string\",\n        \"num_unique_values\": 1305,\n        \"samples\": [\n          \"\\uc544\\uc2dc\\uc544,\\ubbf8\\uad6d,\\ud3c9\\uc591,\\uc77c\\ubcf8,\\uc778\\ub3c4\\ub124\\uc2dc\\uc544,\\ud55c\\uad6d,\\ubd81\\ud55c,\\ubabd\\uace8,\\ub0a8\\ubd81\\ud55c,\\ubca0\\ud2b8\\ub0a8\",\n          \"\\uc11c\\uc6b0\\ub450,\\ubd81,\\ud3c9\\uc591,\\ud558\\ub178\\uc774,\\ub3d9\\ubd81\\uc544,\\ubbf8,\\ubd81\\ud55c,\\ubca0\\uc774\\uc9d5,\\ud558\\uc774\\ud401,\\ubca0\\ud2b8\\ub0a8,\\ud560\\ub871\\ubca0\\uc774\",\n          \"\\ud55c\\ubc18\\ub3c4,\\uc11c\\uc6b8\"\n        ],\n        \"semantic_type\": \"\",\n        \"description\": \"\"\n      }\n    },\n    {\n      \"column\": \"\\uae30\\uad00\",\n      \"properties\": {\n        \"dtype\": \"string\",\n        \"num_unique_values\": 1441,\n        \"samples\": [\n          \"\\ud3c9\\uc591\\uc815\\uc0c1\\ud68c\\ub2f4,\\uc911\\uc18c\\uae30\\uc5c5\\uc911\\uc559\\ud68c,\\ud604\\ub300\\uadf8\\ub8f9,\\ubd81\\ubbf8\\uc815\\uc0c1\\ud68c,\\uac1c\\uc131\\uacf5\\ub2e8\\uae30\\uc5c5\\ud611\\ud68c,\\u30fb,\\ubd81\\ud55c,\\ubd81\\ubbf8\\ud68c\\ub2f4,\\ud55c\\ud654\\uadf8\\ub8f9,\\ud1b5\\uc0c1\\uc0b0\\uc5c5,\\uac1c\\uc131\\uacf5\\ub2e8,\\uad6d\\ubb34\\uc704\",\n          \"\\ud55c\\ubc18\\ub3c4,\\ud55c\\ubbf8\\uac04,\\ub0a8\\ubd81\\ubbf8,\\ud1b5\\uc77c\\uc804\\uc120\\ubd80,\\uccad\\uc640\\ub300,\\ubc31\\uc545\\uad00,\\uc911\\uc559\\uc704,\\uc870\\uc120\\ub178\\ub3d9\\ub2f9,\\ucd98\\ucd94\\uad00,\\ubd81\\ud55c,\\uad6d\\ubb34\\uc704\",\n          \"\\uc720\\uc5d4 \\uc548\\uc804\\ubcf4\\uc7a5\\uc774\\uc0ac\\ud68c,\\ubd81\\ubbf8 \\uc815\\uc0c1\\ud68c,\\ubbf8\\uad6d,\\ub3c4\\ucfc4\\uc2e0\\ubb38,\\uc77c\\ubcf8,\\ubd81\\ubbf8 \\uc815\\uc0c1\\ud68c\\ub2f4,\\uc544\\uc2dc\\uc544\\ub300\\uc591\\uc8fc\\uad6d,\\ubd81\\ud55c,\\uc640\\uc138\\ub2e4,\\ud589\\uc815\\ubd80,\\ubbf8\\uad6d \\uad6d\\ubb34\\ubd80,\\ub2c8\\ud63c\\uac8c\\uc774\\uc790\\uc774,\\uc678\\ubb34\\uc131,\\ub3c4\\ucfc4(\\u6771\\u4eac)\\uc2e0\\ubb38\"\n        ],\n        \"semantic_type\": \"\",\n        \"description\": \"\"\n      }\n    },\n    {\n      \"column\": \"\\ud0a4\\uc6cc\\ub4dc\",\n      \"properties\": {\n        \"dtype\": \"string\",\n        \"num_unique_values\": 1480,\n        \"samples\": [\n          \"\\uc774\\ud2c0,\\ud6c4\\ubcf4,\\ub9c8\\uac10,\\uac8c\\uc784,\\ud55c\\uad6d\\ub2f9,\\uc804\\ub2f9\\ub300\\ud68c,\\uc77c\\uc815,\\uc5f0\\uae30,\\uac08\\ub4f1,\\uc804\\ub2f9\\ub300\\ud68c,\\uc790\\uc720\\ud55c\\uad6d\\ub2f9,\\uac8c\\uc784,\\uc591\\uc0c1,\\uc2ec\\uc7ac\\ucca0,\\uc815\\uc6b0\\ud0dd\\u318d\\uc8fc\\ud638\\uc601,\\uc548\\uc0c1\\uc218,\\uc758\\uc6d0,\\uc624\\uc138\\ud6c8,\\uc11c\\uc6b8\\uc2dc\\uc7a5,5\\uc778,\\uba54\\ub9ac\\uc5b4\\ud2b8\\ud638\\ud154,\\uc5ec\\uc758\\ub3c4,\\ud68c\\ub3d9,\\uc804\\ub300,2\\uc8fc,\\uc5f0\\uae30,2\\uc8fc,\\ud6c4\\ubcf4,\\ub4f1\\ub85d,\\uacbd\\uc120,\\uc77c\\uc815\\ub3c4,\\uc804\\uba74,\\uc911\\ub2e8,\\ud64d\\uc900\\ud45c,\\ub300\\ud45c,\\uc774\\ub0a0,\\ud68c\\ub3d9,\\ubd88\\ucc38,\\ubcf4\\uc774\\ucf67,\\ud589\\ub82c,\\ub3d9\\ucc38,\\ub300\\ud45c,\\uc774\\ub0a0,\\ud398\\uc774\\uc2a4\\ubd81,6\\uba85,\\uc804\\ub300,\\ud6c4\\ubcf4,6\\uba85,\\uc804\\ub300,\\ubcf4\\uc774\\ucf67,\\ub3d9\\ucc38,\\ub9d0\\uc500,\\uc804\\ub300,\\uc774\\ub984,\\uac70\\ub860,\\ubd80\\ud0c1,\\uadf8\\uac04,\\uc608\\uc815,\\ubd81\\ubbf8\\ud68c\\ub2f4,\\uc804\\ub2f9\\ub300\\ud68c,\\uc5f0\\uae30,\\uc694\\uad6c,\\ubbf8\\ud305,\\ud2b9\\uc815\\uc778,\\ucd94\\ub300,\\uc804\\ub2f9\\ub300\\ud68c,\\uc804\\ub77d,\\ubd88\\ub9cc,\\ud1a0\\ub85c,\\uc9c0\\ub3c4\\ubd80,\\uc804\\ub2f9\\ub300\\ud68c,\\uc5f0\\uae30,\\ubd88\\uac00,\\uc0ac\\uc720,\\uc7a5\\uc18c,\\ub300\\uad00,\\uc7a5\\uc18c,\\ud655\\ubcf4,\\uc5ec\\uc758\\ub3c4\\uacf5\\uc6d0,\\uc57c\\uc678,\\uc8fc\\uc7a5,\\uc120\\uad00\\uc704,\\uc694\\uc9c0\\ubd80\\ub3d9,\\uc120\\uad00\\uc704,\\uc774\\ub0a0,\\ubcf4\\ub3c4\\uc790\\ub8cc,\\uc81c1\\uc57c\\ub2f9,\\ub300\\ud45c,\\uc120\\ucd9c,\\uc120\\uac70,\\uc77c\\uc815,\\ud765\\ud589,\\uc5f0\\uae30,\\ucc45\\uc784,\\uacf5\\ub2f9,\\uad6d\\ubbfc,\\uc608\\uc758,\\ud310\\ub2e8,\\uc694\\uad6c,\\uc77c\\ucd95,\\uc804\\ub300,\\uac1c\\ucd5c,\\ubcc0\\uacbd,\\uacb0\\uc815,\\ubcc0\\uacbd,\\ud6c4\\ubcf4\\uc790,\\ub300\\ub9ac\\uc778,\\uc694\\uccad\\uc0ac\\ud56d,\\ucda9\\ubd84\\ud788,\\uccad\\ucde8,\\uc608\\uc815,\\uc9c4\\ud589,\\ubbf8\\ubd81,\\uc815\\uc0c1\\ud68c\\ub2f4,\\uc5f0\\uae30,\\uc7a5\\ub2e8\\uc810,\\uc2ec\\ub3c4,\\ub17c\\uc758,\\uae40\\ubcd1\\uc900,\\ube44\\ub300\\uc704\\uc6d0\\uc7a5,\\uacb0\\uc815,\\uc591\\ubcf4,\\ud6c4\\ubcf4\\ub4e4,\\uacf5\\ub2f9,\\uad6d\\ubbfc,\\uc57d\\uc18d,\\ube44\\ub300\\uc704,\\uc784\\ubb34,\\uc758\\ubb34,\\uc2dc\\uc7a5,\\uc774\\ub0a0,\\uc131\\uba85,\\ud2b9\\uc815,\\ud6c4\\ubcf4,\\ucc45\\uc784\\ub2f9\\uc6d0,\\uc790\\uaca9,\\uc6d0\\uce59,\\ubd80\\uc5ec,\\ube44\\ub300\\uc704,\\uc120\\uad00\\uc704,\\uacf5\\ub2f9,\\uc6b4\\uc6b4,\\uc6d0\\uce59,\\uc598\\uae30,\\ube44\\ud310,\\ub9c8\\uac10,\\uc804\\ub300,\\ub4f1\\ub85d,12\\uc77c,\\uc774\\ud2c0,\\uc0c1\\ud669,6\\uba85,\\ud6c4\\ubcf4,\\uc120\\uad00\\uc704,\\ubcf4\\uc774\\ucf67,\\uc6d0\\uce59,\\uace0\\uc218,\\ud55c\\uad6d\\ub2f9,\\uc804\\ub2f9\\ub300\\ud68c,\\uc2dc\\uacc4,\\uc81c\\ub85c,\\uc0c1\\ud669,\\uc9c0\\ub3c4\\ubd80,\\ub2f9\\uc7a5,\\ud55c\\uad6d\\ub2f9,\\ube44\\uc0c1,\\ud6c4\\ubcf4,\\uc811\\ucd09,\\uc124\\ub4dd,\\uc804\\ub2f9\\ub300\\ud68c,\\ubcf5\\uadc0,\\uc785\\uc7a5,\\uc120\\uad00\\uc704,\\uc77c\\uc815,\\uace0\\uc218,\\ucc9c\\uba85,\\uc99d\\uac00,\\ub9cc\\ud07c,TV,\\ud1a0\\ub860\\ud68c,\\ud69f\\uc218,\\uc815\\ub3c4,\\uc870\\uc815,6\\uba85,\\ubcf5\\uadc0,\\uba85\\ubd84,\\uc804\\ub9dd,\\uc9c0\\ubc30\\uc801,\\uc77c\\uac01,\\uad6c\\ub3c4,\\ud669\\uad50\\uc548,1\\uac15,\\ub808\\uc774\\uc2a4,\\uc9c4\\ud589,\\ub2f9\\uc120,\\uac00\\ub2a5\\uc131,\\ub300\\ud45c,\\uc2dc\\uc7a5,6\\uc778,\\ubd81\\ubbf8\\ud68c\\ub2f4,\\ube4c\\ubbf8,\\uacbd\\uc120,\\ubcf4\\uc774\\ucf67,\\ubcbc\\ub791\\ub05d,\\uc804\\uc220,\\uc0c1\\uc2b9,\\uc9c0\\uc9c0\\uc728,\\ubcf4\\uc218\\uc9c4\\uc601,\\uc720\\ub825,\\uc8fc\\uc790,\\ucd1d\\ucd9c\\ub3d9,\\uacbd\\uc120,\\ubbf8\\ub2c8,\\ub300\\uc120\\uae09,\\uc608\\uacac,\\ud55c\\uad6d\\ub2f9,\\uc804\\ub2f9\\ub300\\ud68c,\\ubcf4\\uc218\\uc131\\ud5a5,\\ucd1d\\ub9ac,\\uae40\\uc9c4\\ud0dc,\\uc758\\uc6d0,\\ub4f1\\uc7a5,\\uc591\\uc790,\\ub300\\uacb0,\\ucd95\\uc18c,\\uac00\\ub2a5\\uc131,\\ucd1d\\ub9ac,\\uad6c\\ubbf8,9\\uc77c,\\uacbd\\ubd81,\\ubc15\\uc815\\ud76c,\\ub300\\ud1b5\\ub839,\\uc0dd\\uac00,\\uc790\\ub9ac,\\uae30\\uc790\\ub4e4,\\uc591\\ubcf4,\\uacb0\\uc815,\\uc758\\uc6d0,\\uc815\\uce58,\\uc785\\uc9c0,\\uae30\\ud68c,\\ubbfc\\uc8fc\\ub2f9,\\ub300\\uc120,\\uacbd\\uc120,\\uc774\\uc778\\uc81c,\\ud55c\\ud654\\uac11,\\uacbd\\uc120,\\uc9c0\\ud0b4\\uc774,\\uc815\\uce58,\\uc785\\uc9c0,\\ubd80\\uc0c1,\\ub300\\ud45c,\\uc815\\ub3d9\\uc601,\\ud3c9\\ud654\\ub2f9,\\uc758\\uc6d0,9\\uc77c,\\uc785\\uc7a5\\ubb38,\\uacbd\\uc7c1,\\ucd09\\uad6c\",\n          \"\\ud575\\ubbf8\\uc0ac\\uc77c\\ub3d9\\uacb0,\\uc81c\\uc7ac,\\uc77c\\ubd80\\uba74\\uc81c,\\uc720\\ub825,\\ucde8\\uc7ac\\uc9c4,\\uba5c\\ub9ac\\uc544,\\ud638\\ud154,\\uc8fc\\ubcc0,\\ub0b4\\uc678\\uc2e0,\\ubd81\\ubbf8,\\uc815\\uc0c1\\ud68c\\ub2f4,\\uc0ac\\ud758,\\uc704\\uc6d0\\uc7a5,\\uae40\\uc815\\uc740,\\uc219\\uc18c,\\uc720\\ub825\\uc2dc,\\ubca0\\ud2b8\\ub0a8,\\uba5c\\ub9ac\\uc544\\ud558\\ub178\\uc774,\\ud638\\ud154,\\uc8fc\\ubcc0,\\uac01\\uad6d,\\uc0c1\\ud669,\\uc8fc\\uc2dc,\\ubca0\\ud2b8\\ub0a8,\\ucd5c\\uc7ac\\uad6c,2\\ucc28,\\ubd81\\ubbf8\\uc815\\uc0c1\\ud68c\\ub2f4,\\uc774\\ud2c0,\\uad6d\\ubb34\\uc704\\uc6d0\\uc7a5,\\uae40\\uc815\\uc740,\\ubd81\\ud55c,\\uad6d\\ubb34,\\uc704\\uc6d0\\uc7a5,60\\uc2dc\\uac04,\\uc5f4\\ucc28\\uc5ec\\ud589,\\ud604\\uc9c0,\\ub3c4\\ucc29,\\ub3c4\\ub110\\ub4dc,\\ud2b8\\ub7fc\\ud504,\\ubbf8\\uad6d,\\ub300\\ud1b5\\ub839,\\ud604\\uc9c0\\uc2dc\\uac04,\\uc6cc\\uc2f1\\ud134,\\ucd9c\\ubc1c,\\uc2dc\\uac04,\\ube44\\ud589,\\ud558\\ub178\\uc774,\\ubca0\\ud2b8\\ub0a8,\\ub3c4\\ucc29,\\ubd81\\ud55c,\\ub300\\uc678,\\uc120\\uc804,\\ub9e4\\uccb4,\\uba54\\uc544\\ub9ac,\\uc785\\uc7a5,\\ube44\\ud575\\ud654,\\uc7ac\\ud655\\uc778,\\ud638\\uc0c1,\\uc778\\uc815,\\uc874\\uc911,\\uc6d0\\uce59,\\ud611\\uc0c1,\\uc790\\uc138,\\ubb38\\uc81c\\ud574\\uacb0,\\uc758\\uc9c0,\\uc11c\\ub85c,\\uc720\\uc775,\\uc885\\ucc29\\uc810,\\uc0c1\\ud638\\uc874\\uc911,\\uc6d0\\uce59,\\uac15\\uc870,2\\ucc28,\\uc815\\uc0c1,\\ud68c\\ub2f4,\\uae40\\uc815\\uc740,\\uc704\\uc6d0\\uc7a5,\\uc601\\ubcc0\\ud575,\\uc2dc\\uc124,\\ud3d0\\uae30,\\ud3ec\\ud568,\\ud575\\ubbf8\\uc0ac\\uc77c,\\uc0dd\\uc0b0\\ub2a5\\ub825,\\ub3d9\\uacb0,\\ud2b8\\ub7fc\\ud504,\\ub300\\ud1b5\\ub839,\\ud3c9\\ud654\\uc120\\uc5b8,\\uc5f0\\ub77d\\uc0ac\\ubb34\\uc18c\\uac1c\\uc124,\\uad00\\uad11,\\uc778\\ud504\\ub77c,\\uc81c\\uc7ac,\\uba74\\uc81c,\\uc870\\uce58,\\ub9de\\uad50\\ud658,\\uac00\\ub2a5\\uc131,\\ubbf8\\uad6d,\\uc5b8\\ub860\\ub4e4,\\uc804\\ubb38\\uac00\\ub4e4,\\uc6d4\\uc2a4\\ud2b8\\ub9ac\\ud2b8\\uc800\\ub110,WSJ,\\ubcf4\\ub3c4,\\uc704\\uc6d0\\uc7a5,\\ub2a5\\ub825,\\ubbf8\\uc0ac\\uc77c,\\uc0dd\\uc0b0,\\ub3d9\\uacb0,\\uc57d\\uc18d,\\uad6c\\uccb4,\\ud589\\ub3d9,\\uc601\\ubcc0,\\ud575\\uc2dc\\uc124,\\uc601\\uad6c\\ud3d0\\uc1c4,\\uc785\\uc7a5,\\uc81c\\uc2dc,\\uc608\\uc0c1,\\ubbf8\\uad6d,2\\ucc28,\\uc815\\uc0c1,\\ud68c\\ub2f4,3\\ub300,\\ucd5c\\uc6b0\\uc120,\\uc704\\uc6d0\\uc7a5,\\uc218\\uc6a9,WSJ,\\ubbf8\\uad6d,\\ud604\\uc2e4\\uc801,\\ud575\\ubb34\\uae30,ICBM,\\ubbf8\\uc0ac\\uc77c,\\uc0dd\\uc0b0\\ub2a5\\ub825,\\uc218\\uc900,\\ub3d9\\uacb0,\\ube44\\ud575\\ud654,\\uc815\\uc758,\\uc774\\ud589,\\ub85c\\ub4dc\\ub9f5,\\ub17c\\uc758,3\\ub300,\\uc2e0\\ubb38,\\uc5b8\\ub860,\\uc804\\ubb38\\uac00\\ub4e4,\\ub2e4\\uc218,\\ubd81\\ud55c,\\ud575\\uc5f0\\ub8cc,\\uc0dd\\uc0b0\\uc2dc\\uc124,\\ub2e8\\uc9c0,\\uc601\\ubcc0,\\ud575\\uc2dc\\uc124,\\ubd81\\ud55c,\\ud504\\ub85c\\uadf8\\ub7a8,\\uc2ec\\uc7a5,\\ud3d0\\uc1c4,\\ubd81\\ud55c,\\ubbf8\\ub798,\\ud575\\uc5f0\\ub8cc,\\ud575\\ubb34\\uae30,\\ub2a5\\ub825,\\ud575\\ud0c4\\ub450,\\uc0dd\\uc0b0,\\uc5b5\\uc81c,\\ud3c9\\uac00,\\ud2b8\\ub7fc\\ud504,\\ub300\\ud1b5\\ub839,\\uacbd\\uc81c,\\uc0c1\\uc751\\uc870\\uce58,\\uad00\\uad11,\\ubd84\\uc57c,\\uc778\\ud504\\ub77c,\\ud22c\\uc790,\\uc81c\\uc7ac,\\uba74\\uc81c,WSJ,\\ubcf4\\ub3c4,\\uad00\\uad11,\\uc81c\\uc7ac\\uba74\\uc81c,\\ubbf8\\uad6d,\\uc7ac\\ubbf8,\\ub3d9\\ud3ec,\\uc774\\uc0b0\\uac00\\uc871,\\ud3ec\\ud568,\\ubbf8\\uad6d,\\uc2dc\\ubbfc\\uad8c\\uc790,\\ubd81\\ud55c\\ubc29\\ubb38,\\uc7ac\\uac1c,\\ud55c\\uad6d,\\uae08\\uac15\\uc0b0,\\uad00\\uad11,\\uc778\\ud504\\ub77c,\\uc81c\\uc7ac,\\uba74\\uc81c,\\ub0a8\\ubd81\\ucca0\\ub3c4,\\uc0ac\\uc5c5,\\ub3c4\\ub85c,\\uc5f0\\uacb0,\\uc2dc\\uc791,\\uc608\\uc0c1,\\ud2b8\\ub7fc\\ud504,\\ub300\\ud1b5\\ub839,\\uc815\\uce58,\\uc0c1\\uc751\\uc870\\uce58,\\uc885\\uc804\\uc120\\uc5b8,\\ud3c9\\ud654\\ud611\\uc815,\\ud3c9\\ud654\\uc120\\uc5b8,\\uc801\\ub300\\uad00\\uacc4,\\uccad\\uc0b0,\\ud3c9\\ud654,\\uc6b0\\ud638\\uad00\\uacc4,\\ucd94\\uad6c,\\uc57d\\uc18d,\\ub300\\ub0b4\\uc678,\\ucc9c\\uba85,\\uc5f0\\ub77d\\uad00,\\ud30c\\uacac,\\uc5f0\\ub77d\\uc0ac\\ubb34\\uc18c,\\uac1c\\uc124,\\ud569\\uc758,WSJ\",\n          \"\\ud2b8\\ub7fc\\ud504,\\ubc1c\\uc5b8,\\ubd81\\ubbf8\\ud68c\\ub2f4,\\uc804\\ub9dd,\\uc601\\ubcc0,\\uc57d\\uc18d,\\uc81c\\uc7ac\\uc644\\ud654,\\ub300\\ud1b5\\ub839,\\ub3c4\\ub110\\ub4dc,\\ud2b8\\ub7fc\\ud504,\\ubd81\\ud55c,\\uc81c\\uc81c\\uc644\\ud654,\\uc801\\uadf9,\\uc2dc\\uc0ac,\\ud2b8\\ub7fc\\ud504,\\ub300\\ud1b5\\ub839,20\\uc77c,\\ud604\\uc9c0\\uc2dc\\uac04,\\uae30\\uc790\\ub4e4,\\uc81c\\uc7ac,\\uc720\\uc9c0,\\uc81c\\uc7ac,\\uc0c1\\ub300\\ubc29,\\uc758\\ubbf8,\\ud2b8\\ub7fc\\ud504,\\ub300\\ud1b5\\ub839,\\ubc1c\\uc5b8,\\uc2e4\\ubb34\\ud611\\uc0c1,\\ub300\\ubd81,\\ud575\\ud611\\uc0c1,\\uc2a4\\ud2f0\\ube10,\\ube44\\uac74,\\uad6d\\ubb34\\ubd80,\\ub300\\ubd81\\uc815\\ucc45,\\ud2b9\\ubcc4\\ub300\\ud45c,\\ubc1c\\uc5b8,1\\uc6d4,\\uad6d\\ubb34\\uc7a5\\uad00,\\ub9c8\\uc774\\ud06c,\\ud3fc\\ud398\\uc774\\uc624,\\ubc1c\\uc5b8,\\ubbf8\\uad6d,\\uc81c\\uc7ac,\\uc644\\ud654,\\uac00\\ub2a5\\uc131,\\uc2dc\\uc0ac,\\ub300\\ud1b5\\ub839,\\uac00\\uc138,\\ubaa8\\uc2b5,\\ubc1c\\uc5b8,\\uc790\\uccb4,\\ubc1c\\uc5b8,\\uc644\\uc804,\\ube44\\ud575\\ud654,\\uc81c\\uc7ac\\uc644\\ud654,\\uc81c\\uc7ac,\\ubd81\\ud55c,\\uc81c\\uac70,\\uac15\\uc870,\\ubc1c\\uc5b8\\ub4e4,\\ube44\\uad50,\\ub2e4\\uc74c\\uc8fc,\\ubd81\\ubbf8\\uc815\\uc0c1\\ud68c\\ub2f4,\\uc2e4\\ubb34\\ud611\\uc0c1,\\uc2dc\\uc810,\\uac15\\uc870,\\ubd81\\ud55c,\\uc77c\\uc815,\\ube44\\ud575\\ud654,\\uc870\\uce58,\\ub300\\uac00,\\uc81c\\uc7ac\\uc644\\ud654,\\uc2dc\\uc0ac,\\ud480\\uc774,\\ud2b8\\ub7fc\\ud504,\\ub300\\ud1b5\\ub839,\\uc815\\uc0c1\\ud68c\\ub2f4,\\ub9c8\\uc9c0\\ub9c9,\\ud68c\\ub2f4,\\uc0dd\\uac01,\\uac15\\uc870,19\\uc77c,\\ubd81\\ud55c,\\ube44\\ud575\\ud654,\\ucc28\\ub840,\\uac15\\uc870,\\uc774\\ud2c0\\uc0ac\\uc774,\\ud2b8\\ub7fc\\ud504,\\ub300\\ud1b5\\ub839,\\ubc1c\\uc5b8\\ub4e4,\\uc885\\ud569,\\uc815\\ub9ac,\\ubbf8\\uad6d,\\ubd81\\ud55c,\\uc81c\\uc7ac,\\uc644\\ud654,\\uc694\\uad6c,\\ubcf8\\uaca9\\uc801,\\ud611\\uc0c1,\\ud14c\\uc774\\ube14,\\ud3ec\\ud568,\\ud68c\\ub2f4,\\ucd5c\\uc885\\uc801,\\ud0c0\\uacb0,\\uc608\\uc0c1,\\uc911\\uc694,\\uc131\\uacfc,\\ubbf8\\uad6d,2\\ucc28,\\uc815\\uc0c1,\\ud68c\\ub2f4,\\uc758\\uc81c\\ub4e4,\\ube44\\uac74,\\ub300\\ud45c,\\uc758\\uc81c,\\ubd81\\ud55c,\\ud569\\uc758,\\ud655\\uc2e0,\\ud56d\\ubaa9\\ub4e4,\\ud569\\uc758,\\uac00\\ub2a5\\uc131,\\ud655\\uc2e0,\\ud56d\\ubaa9,\\ud569\\uc758,\\uc608\\uc0c1,\\ud56d\\ubaa9\\ub4e4,\\uad6c\\ubd84,\\ud68c\\ub2f4,\\uc804\\ub7b5,\\uc608\\uc0c1,\\ud611\\uc0c1,\\uc2dc\\uc810,\\ud611\\uc0c1,\\ud56d\\ubaa9,\\ud3c9\\uac00,\\uc0c1\\uc751,\\ud611\\uc0c1,\\uc804\\uc220,\\uc900\\ube44,\\ud2b8\\ub7fc\\ud504,\\ub300\\ud1b5\\ub839,\\uc911\\uc694,\\ubc1c\\uc5b8,\\uc815\\uc0c1\\ud68c\\ub2f4,\\ucd5c\\uc885\\uc801,\\uac83\\ub4e4,\\ud30c\\uc545,\\uc2dc\\uc0ac,\\ub300\\ud1b5\\ub839,\\uc0ac\\uc2e4\\uc0c1,\\ud2b8\\ub7fc\\ud504,\\uc2e4\\ubb34\\ud611\\uc0c1,\\ubd81\\ud55c,\\uae40\\uc815\\uc740,\\uc704\\uc6d0\\uc7a5,\\uc2e4\\ubb34\\ud611\\uc0c1,\\uad00\\uc5ec,\\ud2b9\\ubcc4\\ub300\\ud45c,\\uc774\\ub2ec\\ucd08,\\ube44\\uac74,\\ud3c9\\uc591,\\ub300\\ubbf8\\ub300\\ud45c,\\uae40\\ud601\\ucca0,\\uad6d\\ubb34\\uc704\\uc6d0\\ud68c,\\ub300\\ubbf8,\\ub300\\ud45c,\\ud611\\uc0c1,\\uae40\\ub300\\uc0ac,\\uba54\\ubaa8,\\uc804\\ub2ec,\\ud611\\uc0c1,\\uc911\\ub2e8,\\uc77c\\ubcf8,\\uc544\\uc0ac\\ud788,\\uc2e0\\ubb38,\\ubcf4\\ub3c4,\\uc0c1\\ud669\\ub4e4,\\uac10\\uc548,\\ubd81\\ud55c,\\ubbf8\\uad6d,\\uc81c\\uc2dc,\\uc785\\uc7a5,\\ubcc0\\ud654\\uacfc\\uc815,\\ucd94\\uc801,\\ud558\\ub178\\uc774,\\uc815\\uc0c1,\\ud68c\\ub2f4,\\ubd81\\ubbf8,\\ud569\\uc758,\\uc0c1\\ud55c\\uc120,\\ud558\\ud55c\\uc120,\\uc720\\ucd94,\\ubd81\\ud55c,\\uc785\\uc7a5,\\ubcc0\\ud654,\\uad6c\\uccb4\\uc801,\\ube44\\uac74,\\uae40\\ud601\\ucca0,\\ud611\\uc0c1,\\ubbf8\\uad6d,\\uc81c\\uc2dc,\\ud611\\uc0c1,\\uc77c\\uc815,\\uc7a5\\uc18c,\\uc790\\uc2e0\\ub4e4,\\uc77c\\ubc29\\uc801,\\uc720\\ub9ac,\\ud3c9\\uc591,\\uc9c0\\uc815,\\ubd81\\ud55c,\\uc785\\uc7a5,\\uace0\\uc218,\\ucd94\\uc815,\\ud611\\uc0c1,\\ubbf8\\uad6d,\\ud611\\uc0c1,\\ud754\\uc801,8\\uc6d4,\\ucde8\\uc784,\\ube44\\uac74,\\ud2b9\\ubcc4\\ub300\\ud45c,\\ubc18\\ub144,\\uae40\\ud601\\ucca0,\\ubd81\\uce21,\\ud30c\\ud2b8\\ub108,\\ud611\\uc0c1,\\uae40\\uc601\\ucca0,\\ud3fc\\ud398\\uc774\\uc624,\\ud68c\\ub2f4,\\ucc28\\ub840,\\ubb34\\uc0b0,\\ud3c9\\uc591\\ud68c\\ub2f4,\\uc804\\ubc18\\uc801,\\ud558\\ub178\\uc774,\\uc815\\uc0c1\\ud68c\\ub2f4,\\ubbf8\\uad6d,\\ubd81\\ud55c,\\ubaa8\\uc591\\uc0c8,\\uacb0\\uacfc,\\ube44\\uac74,\\ud3fc\\ud398\\uc774\\uc624,\\ud2b8\\ub7fc\\ud504,\\uc81c\\uc7ac,\\uc644\\ud654,\\uac00\\ub2a5\\uc131,\\uc2dc\\uc0ac,\\uc815\\uc0c1\\ud68c\\ub2f4,\\ub300\\ubd81,\\uc81c\\uc7ac,\\uc644\\ud654,\\ubc94\\uc704,\\uc870\\uac74,\\uba85\\uc2dc\\uc801,\\uc81c\\uc2dc,\\uac00\\ub2a5\\uc131,\\ubcf4\\ub3c4,\\ud68c\\ub2f4,\\uc758\\uc81c,\\uac00\\uc9c0,\\ubc94\\uc8fc,\\uc2f1\\uac00\\ud3ec\\ub974,\\ud68c\\ub2f4,\\ud569\\uc758,\\uc591\\uad6d\\uad00\\uacc4,\\uc815\\uc0c1\\ud654,\\ud55c\\ubc18\\ub3c4,\\ud3c9\\ud654\\uccb4\\uc81c,\\ud55c\\ubc18\\ub3c4,\\ube44\\ud575\\ud654,\\uc81c\\uc7ac,\\uc644\\ud654,\\ube44\\ud575\\ud654,\\uc218\\uc900,\\uc9c1\\uc811\\uc801,\\uc5f0\\uacb0,\\uad00\\uacc4\\uc815\\uc0c1\\ud654,\\ud3c9\\ud654\\uccb4\\uc81c,\\ube44\\ud575\\ud654,\\uc9c4\\uc804,\\ubcf4\\uc0c1\\ucc45,\\uc131\\uaca9,\\ud575\\uc2ec,\\ubd81\\ud55c,\\ube44\\ud575\\ud654,\\uc218\\uc900,\\uc81c\\uc7ac,\\uc644\\ud654,\\uc218\\uc900,\\uc5f0\\uacb0,\\ucd94\\uc815,\\ub2e8\\uc11c\\ub4e4,\\uac83\\ub4e4,\\ube44\\uac74,\\ud2b9\\ubcc4\\ub300\\ud45c,\\uc9c0\\ub09c\\ub2ec,\\uc2a4\\ud0e0\\ud37c\\ub4dc\\ub300,\\uc5f0\\uc124,\\uae40\\uc815\\uc740,\\uc704\\uc6d0\\uc7a5,\\uc7a5\\uad00,\\ud3fc\\ud398\\uc774\\uc624,\\uc601\\ubcc0,\\ud575\\uc2dc\\uc124,\\ub3d9\\ucc3d\\ub9ac,\\ud3d0\\uae30,\\ubbf8\\uc0ac\\uc77c,\\uc2dc\\uc124,\\ube44\\ud575\\ud654,\\uc5b8\\uae09,\\uacf5\\uac1c,\\ubb38\\uc7ac\\uc778,\\ub300\\ud1b5\\ub839,\\ud2b8\\ub7fc\\ud504,\\ub300\\ud1b5\\ub839,\\ud1b5\\ud654,\\ud55c\\uad6d,\\ub0a8\\ubd81\\ud611\\ub825,\\ub300\\ubd81\\ud611\\uc0c1,\\uce74\\ub4dc,\\uacf5\\uac1c,\\ubcfc\\ud2bc,\\ubc31\\uc545,\\uc548\\ubcf4\\ubcf4\\uc88c\\uad00,\\ud558\\ub178\\uc774,\\uc815\\uc0c1\\ud68c\\ub2f4,\\ubaa9\\uc804,\\ud55c\\uad6d,\\ubc29\\ubb38,\\uad6c\\uccb4\\uc801,\\ud655\\uc778,\\ucd94\\uc815,\\ud2b8\\ub7fc\\ud504,\\ub300\\ud1b5\\ub839,\\ud558\\ub178\\uc774,\\ud68c\\ub2f4,\\ubd81\\ubbf8\\uc815\\uc0c1\\ud68c\\ub2f4,\\uc885\\ud569,\\uc2dc\\ub098\\ub9ac\\uc624,\\uc608\\uc0c1,\\ubbf8\\uad6d,\\ud68c\\ub2f4,\\uc81c\\uc7ac\\uc644\\ud654,\\uc2dc\\uc791,\\ubc29\\ubc95,\\ubbf8\\uad6d,\\uc81c\\uc7ac,\\uc644\\ud654,\\ud55c\\uad6d,\\ud5c8\\uc6a9,\\ubc29\\uc2dd,\\uac00\\ub2a5\\uc131,\\ube44\\ud575\\ud654,\\ucd5c\\uc885\\uc801,\\ub2ec\\uc131,\\ub85c\\ub4dc\\ub9f5,\\uc791\\uc131,\\ud68c\\ub2f4,\\uc601\\ubcc0,\\uae40\\uc815\\uc740,\\uc57d\\uc18d,\\uba85\\uc2dc,\\ud558\\ub178\\uc774,\\ud68c\\ub2f4,\\uc2e4\\ubb34\\ud611\\uc0c1,\\uc9c4\\ud589,\\ube44\\ud575\\ud654,\\ub2e8\\uacc4,\\uc81c\\uc7ac,\\uc644\\ud654,\\uad00\\uacc4\\uc815\\uc0c1\\ud654,\\ud3c9\\ud654\\uccb4\\uc81c,\\ud655\\ub9bd,\\ub2e8\\uacc4,\\ub9e4\\uce6d,\\ub85c\\ub4dc\\ub9f5,\\uc791\\uc131,\\ubc88\\uc9f8,\\ud655\\uc815,\\uc778\\ub3c4\\uc801,\\uc9c0\\uc6d0,\\uc885\\uc804\\uc120\\uc5b8,\\uc124\\uce58,\\uc5f0\\ub77d\\uc0ac\\ubb34\\uc18c,\\uad50\\ud658,\\ud3c9\\ud654\\ud611\\uc815,\\uc774\\uc288\\ub4e4,\\ubd81\\ud55c,\\uc77c\\uad00,\\uc81c\\uc7ac,\\uc644\\ud654,\\uc694\\uad6c,\\ubbf8\\uad6d,\\ubd81\\ud55c,\\uc694\\uad6c,\\uc218\\uc6a9,\\uc815\\uc0c1\\ud68c\\ub2f4,\\ud604\\uc2e4,\\uc778\\uc815,\\ud558\\ub178\\uc774,\\ud68c\\ub2f4,\\uc81c\\uc7ac,\\uc644\\ud654,\\uc218\\uc900,\\ube44\\ud575\\ud654,\\uc815\\ub3c4,\\ub9e4\\uce6d,\\uc911\\uc2ec\\uc801,\\uc758\\uc81c,\\uac00\\ub2a5\\uc131\"\n        ],\n        \"semantic_type\": \"\",\n        \"description\": \"\"\n      }\n    },\n    {\n      \"column\": \"\\ud2b9\\uc131\\ucd94\\ucd9c\",\n      \"properties\": {\n        \"dtype\": \"string\",\n        \"num_unique_values\": 1477,\n        \"samples\": [\n          \"\\ub0a8\\ubd81\\ud55c,\\ubbf8\\uad6d,\\uac00\\ub2a5\\uc131,\\uad6d\\uc81c\\uc815\\uce58,\\ud55c\\uad6d,\\uc77c\\ubcf8,\\ub0a8\\ud55c,\\uc81c\\uc870\\uc5c5,\\ubc94\\uc6a9\\uae30\\uc220,\\uc6b0\\ub9ac\\ub098\\ub77c,\\uc9c0\\uc2dd\\uc0ac\\ud68c\",\n          \"\\ubbfc\\uc8fc\\ub2f9,\\ubd81\\ubbf8,\\ubd81\\ubbf8\\ud68c\\ub2f4,\\uac04\\ub2f4\\ud68c,\\ud558\\ub178\\uc774,\\uc815\\uc0c1\\ud68c\\ub2f4,\\uc704\\uc6d0\\uc7a5,\\ubbf8\\uad6d,\\uc774\\ud574\\ucc2c,\\uc811\\uacbd\\uc9c0\\uc5ed,\\ube44\\ud575\\ud654,\\ud3c9\\ud654\\uccb4\\uc81c,\\uc11c\\uc6b8,\\uad6d\\ubb34\\ucd1d\\ub9ac,\\uae30\\ub150\\uc0ac\\uc5c5,\\ubb38\\uc815\\uc778,\\ube44\\uac74,\\uc0c1\\ubc18\\uae30,\\uad6d\\ubb34\\ubd80,\\ud575\\ud654,\\uacbd\\uc81c\\uc81c\\uc7ac,\\u8a2a\\u7f8e\",\n          \"\\uc911\\uad6d,\\uc704\\uc6d0\\uc7a5,\\uc815\\uc0c1\\ud68c\\ub2f4,\\ube44\\ud575\\ud654,\\uae40\\uc815\\uc740,\\ubca0\\uc774\\uc9d5,2\\ucc28,\\ubd81\\uc911,\\uacf5\\uac10\\ub300,\\ubd81\\ubbf8,\\uc2e0\\ud654\\ud1b5\\uc2e0,\\ubd81\\ubbf8\\ud68c\\ub2f4,\\ub9ac\\uc124\\uc8fc,\\uad6d\\ubb34\\uc704\\uc6d0\\uc7a5\"\n        ],\n        \"semantic_type\": \"\",\n        \"description\": \"\"\n      }\n    },\n    {\n      \"column\": \"\\ubcf8\\ubb38\",\n      \"properties\": {\n        \"dtype\": \"string\",\n        \"num_unique_values\": 1467,\n        \"samples\": [\n          \"\\u25c0 \\uc575\\ucee4 \\u25b6\\n\\n\\ubb38\\uc7ac\\uc778 \\ub300\\ud1b5\\ub839\\uc740 \\uc2e0\\ub144\\uc0ac\\uc5d0 \\uc774\\uc5b4 \\uc9c4\\ud589\\ub41c \\ucd9c\\uc785\\uae30\\uc790\\ub4e4\\uacfc\\uc758 \\uc9c8\\uc758\\uc751\\ub2f5\\uc5d0\\uc11c \\ubd81\\ud55c \\uae40\\uc815\\uc740 \\uc704\\uc6d0\\uc7a5\\uc774 \\ubcf4\\ub0b8 \\uce5c\\uc11c\\uc5d0 \\ub2f5\\uc7a5\\uc744 \\ubcf4\\ub0b8 \\uc0ac\\uc2e4\\uc744 \\uacf5\\uac1c\\ud588\\uc2b5\\ub2c8\\ub2e4. \\n\\n\\uac15\\uc81c\\uc9d5\\uc6a9 \\ud310\\uacb0\\uc744 \\ub193\\uace0 \\ubd88\\uac70\\uc9c4 \\ud55c\\uc77c \\uac04 \\uac08\\ub4f1\\uc5d0 \\ub300\\ud574\\uc11c\\ub294 \\uc77c\\ubcf8 \\uc815\\ubd80\\uac00 \\ud55c\\uad6d \\ubc95\\uc6d0\\uc758 \\ud310\\uacb0\\uc744 \\uc874\\uc911\\ud558\\ub294 \\uc785\\uc7a5\\uc744 \\uac00\\uc838\\uc57c \\ud55c\\ub2e4\\uace0 \\ubc1d\\ud614\\uc2b5\\ub2c8\\ub2e4. \\n\\n\\ucde8\\uc7ac\\uae30\\uc790 \\uc5f0\\uacb0\\ud574 \\uc790\\uc138\\ud55c \\ub0b4\\uc6a9 \\uc54c\\uc544\\ubcf4\\uaca0\\uc2b5\\ub2c8\\ub2e4.\\n\\n\\uc774\\ub3d9\\uacbd \\uae30\\uc790 \\uc804\\ud574\\uc8fc\\uc2dc\\uc8e0.\\n..\",\n          \"\\ubd81 \\ubbf8 \\uc815\\uc0c1\\ud68c\\ub2f4\\uc744 \\uc55e\\ub450\\uace0 \\ud55c\\uad6d\\uc758 \\uad6d\\uac00\\ubd80\\ub3c4 \\uc704\\ud5d8\\uc774 \\uae00\\ub85c\\ubc8c \\uae08\\uc735\\uc704\\uae30 \\uc774\\ud6c4 \\uac00\\uc7a5 \\ub0ae\\uc740 \\uc218\\uc900\\uc73c\\ub85c \\ub5a8\\uc5b4\\uc84c\\uc2b5\\ub2c8\\ub2e4.\\n\\n\\ucd5c\\uadfc \\ud55c\\uad6d\\uc758 5\\ub144 \\ub9cc\\uae30 \\uc678\\uad6d\\ud658\\ud3c9\\ud615\\uae30\\uae08\\uc5d0 \\ubd99\\ub294 \\uc2e0\\uc6a9\\ubd80\\ub3c4\\uc2a4\\uc640\\ud504 \\ud504\\ub9ac\\ubbf8\\uc5c4\\uc740 29bp(1bp=0.01%p)\\ub85c \\uc9c0\\ub09c 2007\\ub144 4\\uc6d4 26\\uc77c 14bp\\ub97c \\uae30\\ub85d\\ud55c \\ub4a4 12\\ub144\\uc5ec \\ub9cc\\uc5d0 \\uac00\\uc7a5 \\ub0ae\\uc558\\uc2b5\\ub2c8\\ub2e4.\\n\\nCDS \\ud504\\ub9ac\\ubbf8\\uc5c4\\uc740 \\uad6d\\uac00 \\ubd80\\ub3c4 \\ub54c \\uad6d\\ucc44 \\uc6d0\\uae08\\uc744 \\ub3cc\\ub824\\uc8fc\\ub294 \\ud30c\\uc0dd\\uc0c1\\ud488\\uc73c..\",\n          \"\\u25c0 \\uc575\\ucee4 \\u25b6\\n\\n\\uae40\\uc815\\uc740 \\ubd81\\ud55c \\uad6d\\ubb34\\uc704\\uc6d0\\uc7a5\\uc774 \\uc911\\uad6d \\ubc29\\ubb38 \\uc77c\\uc815\\uc744 \\ub9c8\\uce58\\uace0 \\uadc0\\uad6d\\uae38\\uc5d0 \\uc62c\\ub790\\uc2b5\\ub2c8\\ub2e4.\\n\\n\\uc55e\\uc11c \\uae40 \\uc704\\uc6d0\\uc7a5\\uc740 \\uc2dc\\uc9c4\\ud551 \\uc8fc\\uc11d\\uacfc \\uc5b4\\uc81c\\uc5d0 \\uc774\\uc5b4 \\uc624\\ub298\\ub3c4 2\\ucc28 \\ud68c\\ub3d9\\uc744 \\uac00\\uc84c\\uace0, \\uacbd\\uc81c\\uae30\\uc220\\uac1c\\ubc1c\\uad6c\\ub97c \\uc2dc\\ucc30\\ud588\\uc2b5\\ub2c8\\ub2e4.\\n\\n\\ubca0\\uc774\\uc9d5 \\uc5f0\\uacb0\\ud569\\ub2c8\\ub2e4. \\n\\n\\uae40\\ud76c\\uc6c5 \\ud2b9\\ud30c\\uc6d0!\\n\\n\\u25c0 \\uae30\\uc790 \\u25b6\\n\\n\\ub124, \\ubca0\\uc774\\uc9d5\\uc785\\ub2c8\\ub2e4.\\n\\n\\u25c0 \\uc575\\ucee4 \\u25b6\\n\\n\\uae40 \\uc704\\uc6d0\\uc7a5\\uc774 \\uc9c0\\uae08\\uc740 \\ubd81\\ud55c \\ucabd\\uc73c\\ub85c \\ub5a0\\ub09c \\uac70\\uc8e0?\\n\\n\\u25c0 \\uae30\\uc790 \\u25b6\\n\\n\\ub124, \\uc774\\ub300..\"\n        ],\n        \"semantic_type\": \"\",\n        \"description\": \"\"\n      }\n    },\n    {\n      \"column\": \"URL\",\n      \"properties\": {\n        \"dtype\": \"string\",\n        \"num_unique_values\": 1384,\n        \"samples\": [\n          \"http://www.etnews.com/20190201000274\",\n          \"http://www.inews365.com/news/article.html?no=570342\",\n          \"http://www.ajunews.com/view/20190226140057393\"\n        ],\n        \"semantic_type\": \"\",\n        \"description\": \"\"\n      }\n    },\n    {\n      \"column\": \"\\ubd84\\uc11d\\uc81c\\uc678 \\uc5ec\\ubd80\",\n      \"properties\": {\n        \"dtype\": \"category\",\n        \"num_unique_values\": 2,\n        \"samples\": [\n          \"\\uc608\\uc678\",\n          \"\\uc911\\ubcf5\"\n        ],\n        \"semantic_type\": \"\",\n        \"description\": \"\"\n      }\n    }\n  ]\n}"
            }
          },
          "metadata": {},
          "execution_count": 20
        }
      ]
    },
    {
      "cell_type": "code",
      "source": [
        "news.shape"
      ],
      "metadata": {
        "id": "HXwxWIhbOgTq",
        "colab": {
          "base_uri": "https://localhost:8080/"
        },
        "outputId": "96c5ce49-33b9-47c2-86b5-f0bc20e4f208"
      },
      "execution_count": 21,
      "outputs": [
        {
          "output_type": "execute_result",
          "data": {
            "text/plain": [
              "(1543, 19)"
            ]
          },
          "metadata": {},
          "execution_count": 21
        }
      ]
    },
    {
      "cell_type": "code",
      "metadata": {
        "colab": {
          "base_uri": "https://localhost:8080/",
          "height": 210
        },
        "id": "7hEHJK87qjTU",
        "outputId": "96b5f9ed-2911-450e-bd62-b2631b037b82"
      },
      "source": [
        "news[\"본문\"][:4]"
      ],
      "execution_count": 22,
      "outputs": [
        {
          "output_type": "execute_result",
          "data": {
            "text/plain": [
              "0    - 비핵화 수준 상응 조치 놓고\\n- 양국 협상팀 막판까지 ‘밀당’\\n- 1차 때와...\n",
              "1    김정은 국무위원장이 27일 시작되는 제2차 북미정상회담 성공을 위해 심혈을 기울이고...\n",
              "2    북미가 처음으로 정상 간 단독회담과 만찬을 가지며 또다시 새로운 역사 창조에 나섰다...\n",
              "3    지난해 9월 남북정상회담 당시 리선권 북한 조국평화통일위원장의 '냉면' 발언으로 정...\n",
              "Name: 본문, dtype: object"
            ],
            "text/html": [
              "<div>\n",
              "<style scoped>\n",
              "    .dataframe tbody tr th:only-of-type {\n",
              "        vertical-align: middle;\n",
              "    }\n",
              "\n",
              "    .dataframe tbody tr th {\n",
              "        vertical-align: top;\n",
              "    }\n",
              "\n",
              "    .dataframe thead th {\n",
              "        text-align: right;\n",
              "    }\n",
              "</style>\n",
              "<table border=\"1\" class=\"dataframe\">\n",
              "  <thead>\n",
              "    <tr style=\"text-align: right;\">\n",
              "      <th></th>\n",
              "      <th>본문</th>\n",
              "    </tr>\n",
              "  </thead>\n",
              "  <tbody>\n",
              "    <tr>\n",
              "      <th>0</th>\n",
              "      <td>- 비핵화 수준 상응 조치 놓고\\n- 양국 협상팀 막판까지 ‘밀당’\\n- 1차 때와...</td>\n",
              "    </tr>\n",
              "    <tr>\n",
              "      <th>1</th>\n",
              "      <td>김정은 국무위원장이 27일 시작되는 제2차 북미정상회담 성공을 위해 심혈을 기울이고...</td>\n",
              "    </tr>\n",
              "    <tr>\n",
              "      <th>2</th>\n",
              "      <td>북미가 처음으로 정상 간 단독회담과 만찬을 가지며 또다시 새로운 역사 창조에 나섰다...</td>\n",
              "    </tr>\n",
              "    <tr>\n",
              "      <th>3</th>\n",
              "      <td>지난해 9월 남북정상회담 당시 리선권 북한 조국평화통일위원장의 '냉면' 발언으로 정...</td>\n",
              "    </tr>\n",
              "  </tbody>\n",
              "</table>\n",
              "</div><br><label><b>dtype:</b> object</label>"
            ]
          },
          "metadata": {},
          "execution_count": 22
        }
      ]
    },
    {
      "cell_type": "code",
      "metadata": {
        "id": "2Ka2_a8xq-P3"
      },
      "source": [
        "sentence_list = []\n",
        "for sent in news[\"본문\"]:\n",
        "\n",
        "    ## 명사만 추출\n",
        "    sent_kkma_pos = kkma.nouns(sent)\n",
        "    word_list = []\n",
        "    for word_pos in sent_kkma_pos:\n",
        "        word_list.append(word_pos)\n",
        "\n",
        "    sentence_list.append(word_list)\n"
      ],
      "execution_count": 23,
      "outputs": []
    },
    {
      "cell_type": "code",
      "source": [
        "import numpy as np"
      ],
      "metadata": {
        "id": "ZvRXb3GYo-G5"
      },
      "execution_count": 27,
      "outputs": []
    },
    {
      "cell_type": "code",
      "source": [
        "np.shape(sentence_list[0])"
      ],
      "metadata": {
        "colab": {
          "base_uri": "https://localhost:8080/"
        },
        "id": "62SRbCMroyNk",
        "outputId": "61205fa9-327c-4599-f37e-bcb6ca0dd3f5"
      },
      "execution_count": 26,
      "outputs": [
        {
          "output_type": "execute_result",
          "data": {
            "text/plain": [
              "(61,)"
            ]
          },
          "metadata": {},
          "execution_count": 26
        }
      ]
    },
    {
      "cell_type": "code",
      "source": [
        "len(sentence_list)"
      ],
      "metadata": {
        "colab": {
          "base_uri": "https://localhost:8080/"
        },
        "id": "mzSkKkWAVMX-",
        "outputId": "6c80e553-0840-462f-d8e4-beb629ad38dc"
      },
      "execution_count": 29,
      "outputs": [
        {
          "output_type": "execute_result",
          "data": {
            "text/plain": [
              "1543"
            ]
          },
          "metadata": {},
          "execution_count": 29
        }
      ]
    },
    {
      "cell_type": "code",
      "metadata": {
        "colab": {
          "base_uri": "https://localhost:8080/"
        },
        "id": "dTq-vtCar0JC",
        "scrolled": true,
        "outputId": "1c372648-90e3-45cd-9b34-8c41e6360c0c"
      },
      "source": [
        "news.shape"
      ],
      "execution_count": 35,
      "outputs": [
        {
          "output_type": "execute_result",
          "data": {
            "text/plain": [
              "(1543, 19)"
            ]
          },
          "metadata": {},
          "execution_count": 35
        }
      ]
    },
    {
      "cell_type": "code",
      "metadata": {
        "colab": {
          "base_uri": "https://localhost:8080/"
        },
        "id": "KXw8yAntaJlm",
        "outputId": "4dab8528-2039-4b3b-f4cc-c5705afb6679"
      },
      "source": [
        "[len(w) for w in sentence_list][:10]"
      ],
      "execution_count": 36,
      "outputs": [
        {
          "output_type": "execute_result",
          "data": {
            "text/plain": [
              "[61, 50, 63, 48, 44, 38, 38, 60, 52, 39]"
            ]
          },
          "metadata": {},
          "execution_count": 36
        }
      ]
    },
    {
      "cell_type": "code",
      "metadata": {
        "id": "FrN75hskaVMV",
        "colab": {
          "base_uri": "https://localhost:8080/"
        },
        "outputId": "0136f3bd-4054-40ab-ca49-59ce2f71a1d1"
      },
      "source": [
        "print(sentence_list[0])"
      ],
      "execution_count": 37,
      "outputs": [
        {
          "output_type": "stream",
          "name": "stdout",
          "text": [
            "['비핵화', '수준', '상응', '조치', '양국', '협상', '협상팀', '팀', '막판', '당', '1', '1차', '차', '때', '시간', '조율', '단계적', '접근', '동의', '예상', '종전', '종전선언', '선언', '연락', '연락사무소', '사무소', '개설', '등', '조건', '조건부', '부', '제재', '완화', '명시', '가능성', '북미', '북미회담', '회담', '빅딜', '성공', '김', '김정은', '정은', '답방', '결과', '연관', '북한', '국무', '국무위원장', '위원장', '도', '도널드', '널드', '트럼프', '미국', '대통령', '27', '27일', '일', '친교', '만찬']\n"
          ]
        }
      ]
    },
    {
      "cell_type": "markdown",
      "metadata": {
        "id": "sVjdOfuPX-yc"
      },
      "source": [
        "- word2vec(): Its input is a text corpus and its output is a set of vectors.\n",
        "- Word embedding via word2vec can make natural language computer-readable, then further implementation of mathematical operations on words can be used to detect their similarities. A well-trained set of word vectors will place similar words close to each other in that space. For instance, the words women, men, and human might cluster in one corner, while yellow, red and blue cluster together in another\n",
        "- Word2Vec의 기본 가정은 유사한 컨텍스트를 공유하는 두 단어도 유사한 의미를 공유하고 결과적으로 모델에서 유사한 벡터 표현을 공유한다는 것이다. 예를 들어 : \"dog\", \"puppy\"및 \"pup\"은 \"good\", \"fluffy\"또는 \"cute\"와 같은 유사한 주변 단어와 함께 유사한 상황에서 자주 사용되며 따라서 Word2Vec에 따르면 유사한 벡터 표현을 공유한다.\n",
        "\n",
        "이 가정에서 Word2Vec을 사용하여 데이터 세트에서 단어 간의 관계를 알아 내고, 단어 간의 유사성을 계산하거나, 텍스트 분류 또는 클러스터링과 같은 다른 응용 프로그램의 입력으로 해당 단어의 벡터 표현을 사용할 수 있다."
      ]
    },
    {
      "cell_type": "markdown",
      "source": [
        "## Exercise"
      ],
      "metadata": {
        "id": "T2KpMVZuX-yd"
      }
    },
    {
      "cell_type": "code",
      "source": [
        "\n",
        "# https://machinelearningmastery.com/develop-word-embeddings-python-gensim/\n",
        "from gensim.models import Word2Vec\n",
        "# define training data\n",
        "sentences = [['this', 'is', 'the', 'first', 'sentence', 'for', 'word2vec'],\n",
        "\t\t\t['this', 'is', 'the', 'second', 'sentence'],\n",
        "\t\t\t['yet', 'another', 'sentence'],\n",
        "\t\t\t['one', 'more', 'sentence'],\n",
        "\t\t\t['and', 'the', 'final', 'sentence']]\n",
        "# train model\n",
        "model = Word2Vec(sentences, min_count=1, vector_size=5)"
      ],
      "metadata": {
        "id": "jnqE5SO6ehNY"
      },
      "execution_count": 38,
      "outputs": []
    },
    {
      "cell_type": "code",
      "metadata": {
        "colab": {
          "base_uri": "https://localhost:8080/"
        },
        "id": "4s-PWwNYX-yd",
        "outputId": "ba59693f-ce98-4a26-94fd-ec9ee1e61330"
      },
      "source": [
        "# summarize the loaded model\n",
        "print(model)"
      ],
      "execution_count": 39,
      "outputs": [
        {
          "output_type": "stream",
          "name": "stdout",
          "text": [
            "Word2Vec<vocab=14, vector_size=5, alpha=0.025>\n"
          ]
        }
      ]
    },
    {
      "cell_type": "code",
      "metadata": {
        "colab": {
          "base_uri": "https://localhost:8080/"
        },
        "id": "B1lYFmJxX-ye",
        "outputId": "053cff65-c171-4e66-a319-41a8d13a2fdc"
      },
      "source": [
        "# summarize vocabulary (to see learned vocabulary of tokens (words) )\n",
        "words = list(model.wv.index_to_key)\n",
        "print(words)"
      ],
      "execution_count": 40,
      "outputs": [
        {
          "output_type": "stream",
          "name": "stdout",
          "text": [
            "['sentence', 'the', 'is', 'this', 'final', 'and', 'more', 'one', 'another', 'yet', 'second', 'word2vec', 'for', 'first']\n"
          ]
        }
      ]
    },
    {
      "cell_type": "code",
      "metadata": {
        "colab": {
          "base_uri": "https://localhost:8080/"
        },
        "id": "z1madPOdX-yf",
        "outputId": "77705bf6-9c5b-423a-ed1c-272553f625cb"
      },
      "source": [
        "# access vector for one word\n",
        "print(model.wv['sentence'])"
      ],
      "execution_count": 41,
      "outputs": [
        {
          "output_type": "stream",
          "name": "stdout",
          "text": [
            "[-0.01072454  0.00472863  0.10206699  0.18018547 -0.186059  ]\n"
          ]
        }
      ]
    },
    {
      "cell_type": "code",
      "metadata": {
        "id": "LmeclGmeX-yf"
      },
      "source": [
        "# save model\n",
        "model.save('model.bin')"
      ],
      "execution_count": 42,
      "outputs": []
    },
    {
      "cell_type": "code",
      "metadata": {
        "scrolled": true,
        "colab": {
          "base_uri": "https://localhost:8080/"
        },
        "id": "PAwptqsxX-yg",
        "outputId": "bebc26da-8fbd-4498-94b4-786a66ad53ba"
      },
      "source": [
        "# load model\n",
        "new_model = Word2Vec.load('model.bin')\n",
        "print(new_model)"
      ],
      "execution_count": 43,
      "outputs": [
        {
          "output_type": "stream",
          "name": "stdout",
          "text": [
            "Word2Vec<vocab=14, vector_size=5, alpha=0.025>\n"
          ]
        }
      ]
    },
    {
      "cell_type": "code",
      "metadata": {
        "colab": {
          "base_uri": "https://localhost:8080/",
          "height": 430
        },
        "id": "qEaGM2dYX-yh",
        "outputId": "585a8d1b-83c0-417b-ebb0-66ac1dff267c"
      },
      "source": [
        "from sklearn.decomposition import PCA\n",
        "import matplotlib.pyplot as plt\n",
        "%matplotlib inline\n",
        "\n",
        "X = model.wv[model.wv.index_to_key]\n",
        "pca = PCA(n_components=2)\n",
        "result = pca.fit_transform(X)\n",
        "\n",
        "plt.scatter(result[:, 0], result[:, 1])\n",
        "words = list(model.wv.index_to_key)\n",
        "for i, word in enumerate(words):\n",
        "    plt.annotate(word, xy=(result[i, 0], result[i, 1]))\n",
        "plt.show()"
      ],
      "execution_count": 44,
      "outputs": [
        {
          "output_type": "display_data",
          "data": {
            "text/plain": [
              "<Figure size 640x480 with 1 Axes>"
            ],
            "image/png": "[encoded data removed]"
          },
          "metadata": {}
        }
      ]
    },
    {
      "cell_type": "markdown",
      "metadata": {
        "id": "HKa1PStcX-yi"
      },
      "source": [
        "## Get back to the problem"
      ]
    },
    {
      "cell_type": "code",
      "metadata": {
        "id": "WvEiKwbiXBo7",
        "scrolled": true
      },
      "source": [
        "model = Word2Vec(sentence_list, vector_size=10)"
      ],
      "execution_count": 45,
      "outputs": []
    },
    {
      "cell_type": "code",
      "source": [
        "model.wv['한국']"
      ],
      "metadata": {
        "colab": {
          "base_uri": "https://localhost:8080/"
        },
        "id": "0Xeuj6SAW6Zj",
        "outputId": "e8244995-93de-48af-bd12-2edc771825ce"
      },
      "execution_count": 46,
      "outputs": [
        {
          "output_type": "execute_result",
          "data": {
            "text/plain": [
              "array([-0.2352448 , -1.4341162 ,  0.13588016,  1.820714  , -1.430692  ,\n",
              "        0.73804814, -0.06287798,  1.2314048 , -3.5726593 , -1.8600773 ],\n",
              "      dtype=float32)"
            ]
          },
          "metadata": {},
          "execution_count": 46
        }
      ]
    },
    {
      "cell_type": "code",
      "source": [
        "model.wv.most_similar(\"한국\")   # cosine similarity"
      ],
      "metadata": {
        "colab": {
          "base_uri": "https://localhost:8080/"
        },
        "id": "Aj2oAxFbPFat",
        "outputId": "abcd4422-8e2a-4fc1-a522-03e259deca95"
      },
      "execution_count": 47,
      "outputs": [
        {
          "output_type": "execute_result",
          "data": {
            "text/plain": [
              "[('자유', 0.9911430478096008),\n",
              " ('자유한국', 0.9818752408027649),\n",
              " ('자유한국당', 0.980215311050415),\n",
              " ('당', 0.9748926758766174),\n",
              " ('전당', 0.9687797427177429),\n",
              " ('대회', 0.9685946702957153),\n",
              " ('이해', 0.9617274403572083),\n",
              " ('민주당', 0.9591065049171448),\n",
              " ('전당대회', 0.9575591087341309),\n",
              " ('경원', 0.9570915699005127)]"
            ]
          },
          "metadata": {},
          "execution_count": 47
        }
      ]
    },
    {
      "cell_type": "code",
      "metadata": {
        "colab": {
          "base_uri": "https://localhost:8080/"
        },
        "id": "Pjiz6wLRXBpB",
        "outputId": "6410fa19-21ce-445a-b8b8-d90293a64a9c"
      },
      "source": [
        "print(model.wv.similarity(\"미국\",\"미국\"))\n",
        "print(model.wv.similarity(\"미국\", \"일본\"))\n",
        "print(model.wv.similarity(\"일본\", \"한국\"))\n",
        "print(model.wv.similarity(\"트럼프\",\"김정은\"))"
      ],
      "execution_count": 48,
      "outputs": [
        {
          "output_type": "stream",
          "name": "stdout",
          "text": [
            "1.0\n",
            "0.61213076\n",
            "0.724641\n",
            "0.68024266\n"
          ]
        }
      ]
    },
    {
      "cell_type": "markdown",
      "metadata": {
        "id": "cPa-oF9bXBpP"
      },
      "source": [
        "## 문장 유사도\n",
        "- NLTK (Natural Language ToolKit) 라이브러리 사용"
      ]
    },
    {
      "cell_type": "code",
      "metadata": {
        "colab": {
          "base_uri": "https://localhost:8080/"
        },
        "id": "DcU6fzqcX-ym",
        "outputId": "795ea209-092d-4b05-b60d-9f39a6f1d49c"
      },
      "source": [
        "# simple exercise\n",
        "import nltk\n",
        "nltk.download('punkt')\n",
        "nltk.download('punkt_tab')\n",
        "\n",
        "sentence = \"At eight o'clock on Thursday morning Arthur didn't feel very good.\"\n",
        "tokens = nltk.word_tokenize(sentence)\n",
        "tokens"
      ],
      "execution_count": 50,
      "outputs": [
        {
          "output_type": "stream",
          "name": "stderr",
          "text": [
            "[nltk_data] Downloading package punkt to /root/nltk_data...\n",
            "[nltk_data]   Package punkt is already up-to-date!\n",
            "[nltk_data] Downloading package punkt_tab to /root/nltk_data...\n",
            "[nltk_data]   Unzipping tokenizers/punkt_tab.zip.\n"
          ]
        },
        {
          "output_type": "execute_result",
          "data": {
            "text/plain": [
              "['At',\n",
              " 'eight',\n",
              " \"o'clock\",\n",
              " 'on',\n",
              " 'Thursday',\n",
              " 'morning',\n",
              " 'Arthur',\n",
              " 'did',\n",
              " \"n't\",\n",
              " 'feel',\n",
              " 'very',\n",
              " 'good',\n",
              " '.']"
            ]
          },
          "metadata": {},
          "execution_count": 50
        }
      ]
    },
    {
      "cell_type": "code",
      "metadata": {
        "colab": {
          "base_uri": "https://localhost:8080/"
        },
        "id": "71KHyNHlX-ym",
        "outputId": "620bc84d-a23a-438f-bab7-59a0013bc041"
      },
      "source": [
        "nltk.download('averaged_perceptron_tagger_eng')\n",
        "nltk.download('averaged_perceptron_tagger')\n",
        "tagged = nltk.pos_tag(tokens)\n",
        "tagged[0:6]"
      ],
      "execution_count": 52,
      "outputs": [
        {
          "output_type": "stream",
          "name": "stderr",
          "text": [
            "[nltk_data] Downloading package averaged_perceptron_tagger_eng to\n",
            "[nltk_data]     /root/nltk_data...\n",
            "[nltk_data]   Unzipping taggers/averaged_perceptron_tagger_eng.zip.\n",
            "[nltk_data] Downloading package averaged_perceptron_tagger to\n",
            "[nltk_data]     /root/nltk_data...\n",
            "[nltk_data]   Package averaged_perceptron_tagger is already up-to-\n",
            "[nltk_data]       date!\n"
          ]
        },
        {
          "output_type": "execute_result",
          "data": {
            "text/plain": [
              "[('At', 'IN'),\n",
              " ('eight', 'CD'),\n",
              " (\"o'clock\", 'NN'),\n",
              " ('on', 'IN'),\n",
              " ('Thursday', 'NNP'),\n",
              " ('morning', 'NN')]"
            ]
          },
          "metadata": {},
          "execution_count": 52
        }
      ]
    },
    {
      "cell_type": "code",
      "metadata": {
        "colab": {
          "base_uri": "https://localhost:8080/"
        },
        "id": "bn7sVEJdXBpR",
        "outputId": "e51dd602-a5ea-4d5b-d130-45e36223ca04"
      },
      "source": [
        "# edit_distance: 문자열이 얼마나 다른지 편집거리를 이용해 유사도 판단\n",
        "import nltk\n",
        "sentence_list = [\"우리 모두 함께 놀자\",\n",
        "                 \"모두 같이 놀자\",\n",
        "                 \"놀자\",\n",
        "                 \"모두 다 같이\"]\n",
        "\n",
        "for i in sentence_list:\n",
        "    print(\"'\", i, \"'\")\n",
        "    for j in sentence_list:\n",
        "        print(\"\\t\", j, \" : \", end='')\n",
        "        print(nltk.edit_distance(i, j), )\n",
        "    print()"
      ],
      "execution_count": 53,
      "outputs": [
        {
          "output_type": "stream",
          "name": "stdout",
          "text": [
            "' 우리 모두 함께 놀자 '\n",
            "\t 우리 모두 함께 놀자  : 0\n",
            "\t 모두 같이 놀자  : 5\n",
            "\t 놀자  : 9\n",
            "\t 모두 다 같이  : 7\n",
            "\n",
            "' 모두 같이 놀자 '\n",
            "\t 우리 모두 함께 놀자  : 5\n",
            "\t 모두 같이 놀자  : 0\n",
            "\t 놀자  : 6\n",
            "\t 모두 다 같이  : 4\n",
            "\n",
            "' 놀자 '\n",
            "\t 우리 모두 함께 놀자  : 9\n",
            "\t 모두 같이 놀자  : 6\n",
            "\t 놀자  : 0\n",
            "\t 모두 다 같이  : 7\n",
            "\n",
            "' 모두 다 같이 '\n",
            "\t 우리 모두 함께 놀자  : 7\n",
            "\t 모두 같이 놀자  : 4\n",
            "\t 놀자  : 7\n",
            "\t 모두 다 같이  : 0\n",
            "\n"
          ]
        }
      ]
    },
    {
      "cell_type": "markdown",
      "metadata": {
        "id": "cmMTjqgUX-yp"
      },
      "source": [
        "- 단어벡터와 코사인 유사도 사용\n",
        "- ![image.png](attachment:image.png)"
      ]
    },
    {
      "cell_type": "code",
      "metadata": {
        "id": "wgkIida2XBpX"
      },
      "source": [
        "from sklearn.feature_extraction.text import TfidfVectorizer, CountVectorizer\n",
        "\n",
        "sentence_list = ['우리 모두 함께 놀자',\n",
        "                 '모두 같이 놀자']\n",
        "\n",
        "tfidf = TfidfVectorizer()\n",
        "tfidf_vec = tfidf.fit_transform(sentence_list)\n",
        "\n",
        "count = CountVectorizer()\n",
        "count_vec = count.fit_transform(sentence_list)"
      ],
      "execution_count": 54,
      "outputs": []
    },
    {
      "cell_type": "code",
      "metadata": {
        "colab": {
          "base_uri": "https://localhost:8080/"
        },
        "id": "ayjiiYS5XBpd",
        "outputId": "49dfbd7f-2e61-45b5-d382-0854c2033e94"
      },
      "source": [
        "from sklearn.metrics.pairwise import cosine_similarity\n",
        "\n",
        "tfidf_cosine = cosine_similarity(tfidf_vec[0].toarray(), tfidf_vec[1].toarray())[0][0]\n",
        "count_cosine = cosine_similarity(count_vec[0].toarray(), count_vec[1].toarray())[0][0]\n",
        "\n",
        "print(\"tfidf consine similarity : \", tfidf_cosine)\n",
        "print(\"coiunt consine similarity : \", count_cosine)"
      ],
      "execution_count": 55,
      "outputs": [
        {
          "output_type": "stream",
          "name": "stdout",
          "text": [
            "tfidf consine similarity :  0.4112070550676187\n",
            "coiunt consine similarity :  0.5773502691896258\n"
          ]
        }
      ]
    },
    {
      "cell_type": "code",
      "metadata": {
        "colab": {
          "base_uri": "https://localhost:8080/"
        },
        "id": "vAH4pczpXBpl",
        "outputId": "e3d85e4b-af4c-41f9-c9c5-80d134002442"
      },
      "source": [
        "# 직접 구현시 코사인 유사도\n",
        "import math\n",
        "def my_cosine_similarity(v1,v2):\n",
        "\n",
        "    sumxx, sumxy, sumyy = 0, 0, 0\n",
        "    for i in range(len(v1)):\n",
        "        x = v1[i]; y = v2[i]\n",
        "        sumxx += x*x\n",
        "        sumyy += y*y\n",
        "        sumxy += x*y\n",
        "    return sumxy/math.sqrt(sumxx*sumyy)\n",
        "\n",
        "my_tfidf = my_cosine_similarity(tfidf_vec.toarray()[0], tfidf_vec.toarray()[1])\n",
        "my_count = my_cosine_similarity(count_vec.toarray()[0], count_vec.toarray()[1])\n",
        "\n",
        "print(\"my tfidf consine similarity : \", my_tfidf)\n",
        "print(\"my coiunt consine similarity : \", my_count)"
      ],
      "execution_count": 56,
      "outputs": [
        {
          "output_type": "stream",
          "name": "stdout",
          "text": [
            "my tfidf consine similarity :  0.4112070550676187\n",
            "my coiunt consine similarity :  0.5773502691896258\n"
          ]
        }
      ]
    },
    {
      "cell_type": "code",
      "metadata": {
        "colab": {
          "base_uri": "https://localhost:8080/"
        },
        "id": "P6L32oerX-yt",
        "outputId": "2468bd57-0283-44d8-c00f-1cfc06b0aa8f"
      },
      "source": [
        "# 자카드 유사도 계산\n",
        "\n",
        "sentence_list = ['우리 모두 함께 놀자','모두 같이 놀자']\n",
        "def get_jaccard_sim(str1, str2):\n",
        "    a = set(str1.split())\n",
        "    b = set(str2.split())\n",
        "    c = a.intersection(b)\n",
        "    return float(len(c)) / (len(a) + len(b) - len(c))\n",
        "\n",
        "get_jaccard_sim(sentence_list[0], sentence_list[1])"
      ],
      "execution_count": 57,
      "outputs": [
        {
          "output_type": "execute_result",
          "data": {
            "text/plain": [
              "0.4"
            ]
          },
          "metadata": {},
          "execution_count": 57
        }
      ]
    }
  ]
}