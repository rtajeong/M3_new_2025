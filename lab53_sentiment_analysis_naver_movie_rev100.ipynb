{
  "nbformat": 4,
  "nbformat_minor": 0,
  "metadata": {
    "accelerator": "GPU",
    "colab": {
      "provenance": [],
      "collapsed_sections": [
        "TI5-Fx_zPO0Y"
      ],
      "toc_visible": true,
      "include_colab_link": true
    },
    "kernelspec": {
      "display_name": "Python 3",
      "language": "python",
      "name": "python3"
    },
    "language_info": {
      "codemirror_mode": {
        "name": "ipython",
        "version": 3
      },
      "file_extension": ".py",
      "mimetype": "text/x-python",
      "name": "python",
      "nbconvert_exporter": "python",
      "pygments_lexer": "ipython3",
      "version": "3.6.8"
    }
  },
  "cells": [
    {
      "cell_type": "markdown",
      "metadata": {
        "id": "view-in-github",
        "colab_type": "text"
      },
      "source": [
        "<a href=\"https://colab.research.google.com/github/rtajeong/M3_new_2025/blob/main/lab53_sentiment_analysis_naver_movie_rev100.ipynb\" target=\"_parent\"><img src=\"https://colab.research.google.com/assets/colab-badge.svg\" alt=\"Open In Colab\"/></a>"
      ]
    },
    {
      "cell_type": "markdown",
      "metadata": {
        "id": "TI5-Fx_zPO0Y"
      },
      "source": [
        "네이버영화평점\n",
        "==\n",
        "- 감성분석\n",
        "- 네이버 영화평점 (Naver sentiment movie corpus v.1.0) 데이터(https://github.com/e9t/nsmc)\n",
        "- 영화 리뷰 20만건이 저장됨. 각 평가 데이터는 0(부정), 1(긍정)으로 label 됨.\n",
        "\n",
        "### 한글 자연어 처리\n",
        "- KoNLPy(“코엔엘파이”라고 읽습니다)는 한국어 정보처리를 위한 파이썬 패키지입니다.\n",
        "- konlpy 패키지에서 제공하는 Twitter라는 문서 분석 라이브러리 사용 (트위터 분석 뿐 아니라 한글 텍스트\n",
        "  처리도 가능)\n",
        "- colab 사용 권장"
      ]
    },
    {
      "cell_type": "markdown",
      "metadata": {
        "id": "bZNLuzYoPO0k"
      },
      "source": [
        "# 로지스틱회귀를 이용한 감성분석"
      ]
    },
    {
      "cell_type": "code",
      "metadata": {
        "id": "Q8ZDSK7xQfmD",
        "colab": {
          "base_uri": "https://localhost:8080/"
        },
        "outputId": "3928c6b8-bbb7-46c5-9e8d-f8797fd2b81c"
      },
      "source": [
        "!pip install konlpy"
      ],
      "execution_count": 1,
      "outputs": [
        {
          "output_type": "stream",
          "name": "stdout",
          "text": [
            "Collecting konlpy\n",
            "  Downloading konlpy-0.6.0-py2.py3-none-any.whl.metadata (1.9 kB)\n",
            "Collecting JPype1>=0.7.0 (from konlpy)\n",
            "  Downloading jpype1-1.6.0-cp312-cp312-manylinux2014_x86_64.manylinux_2_17_x86_64.whl.metadata (5.0 kB)\n",
            "Requirement already satisfied: lxml>=4.1.0 in /usr/local/lib/python3.12/dist-packages (from konlpy) (5.4.0)\n",
            "Requirement already satisfied: numpy>=1.6 in /usr/local/lib/python3.12/dist-packages (from konlpy) (2.0.2)\n",
            "Requirement already satisfied: packaging in /usr/local/lib/python3.12/dist-packages (from JPype1>=0.7.0->konlpy) (25.0)\n",
            "Downloading konlpy-0.6.0-py2.py3-none-any.whl (19.4 MB)\n",
            "\u001b[2K   \u001b[90m━━━━━━━━━━━━━━━━━━━━━━━━━━━━━━━━━━━━━━━━\u001b[0m \u001b[32m19.4/19.4 MB\u001b[0m \u001b[31m36.9 MB/s\u001b[0m eta \u001b[36m0:00:00\u001b[0m\n",
            "\u001b[?25hDownloading jpype1-1.6.0-cp312-cp312-manylinux2014_x86_64.manylinux_2_17_x86_64.whl (495 kB)\n",
            "\u001b[2K   \u001b[90m━━━━━━━━━━━━━━━━━━━━━━━━━━━━━━━━━━━━━━━━\u001b[0m \u001b[32m495.9/495.9 kB\u001b[0m \u001b[31m31.6 MB/s\u001b[0m eta \u001b[36m0:00:00\u001b[0m\n",
            "\u001b[?25hInstalling collected packages: JPype1, konlpy\n",
            "Successfully installed JPype1-1.6.0 konlpy-0.6.0\n"
          ]
        }
      ]
    },
    {
      "cell_type": "code",
      "metadata": {
        "colab": {
          "base_uri": "https://localhost:8080/"
        },
        "id": "Cr1Rds4XQn2N",
        "outputId": "e6a21236-7820-4fac-eec7-ca83d784203a"
      },
      "source": [
        "# 네이버 영화 평점 데이터 다운로드\n",
        "!curl -L https://bit.ly/2X9Owwr -o ratings_train.txt\n",
        "!curl -L https://bit.ly/2WuLd5I -o ratings_test.txt"
      ],
      "execution_count": 2,
      "outputs": [
        {
          "output_type": "stream",
          "name": "stdout",
          "text": [
            "  % Total    % Received % Xferd  Average Speed   Time    Time     Time  Current\n",
            "                                 Dload  Upload   Total   Spent    Left  Speed\n",
            "100   118  100   118    0     0    645      0 --:--:-- --:--:-- --:--:--   648\n",
            "100   131  100   131    0     0    335      0 --:--:-- --:--:-- --:--:--   335\n",
            "100    17  100    17    0     0     18      0 --:--:-- --:--:-- --:--:--     0\n",
            "100 14.0M  100 14.0M    0     0  9874k      0  0:00:01  0:00:01 --:--:-- 9874k\n",
            "  % Total    % Received % Xferd  Average Speed   Time    Time     Time  Current\n",
            "                                 Dload  Upload   Total   Spent    Left  Speed\n",
            "100   117  100   117    0     0    628      0 --:--:-- --:--:-- --:--:--   625\n",
            "100   130  100   130    0     0    234      0 --:--:-- --:--:-- --:--:--   234\n",
            "100    17  100    17    0     0     15      0  0:00:01  0:00:01 --:--:--    15\n",
            "100 4827k  100 4827k    0     0  2046k      0  0:00:02  0:00:02 --:--:-- 4294k\n"
          ]
        }
      ]
    },
    {
      "cell_type": "code",
      "metadata": {
        "id": "UqXWg0fAPO0l",
        "scrolled": true
      },
      "source": [
        "import konlpy\n",
        "import pandas as pd\n",
        "from konlpy.tag import Twitter\n",
        "from sklearn.feature_extraction.text import TfidfVectorizer\n",
        "from sklearn.linear_model import LogisticRegression\n",
        "# from sklearn.pipeline import make_pipeline\n",
        "# import pickle\n",
        "# import os.path\n",
        "\n",
        "# 데이터 로드\n",
        "# keep_default_na: Whether or not to include the default NaN values when parsing the data\n",
        "# -> False: no strings will be parsed as NaN.\n",
        "\n",
        "df_train = pd.read_csv('ratings_train.txt', delimiter='\\t', keep_default_na=False)\n",
        "df_test = pd.read_csv('ratings_test.txt', delimiter='\\t', keep_default_na=False)"
      ],
      "execution_count": 3,
      "outputs": []
    },
    {
      "cell_type": "code",
      "metadata": {
        "colab": {
          "base_uri": "https://localhost:8080/",
          "height": 112
        },
        "id": "sZYlqPNvvuTL",
        "outputId": "a0086e53-19d3-4c6d-d2b2-dee78f1b4ee9"
      },
      "source": [
        "df_train.head(2)"
      ],
      "execution_count": 4,
      "outputs": [
        {
          "output_type": "execute_result",
          "data": {
            "text/plain": [
              "        id                           document  label\n",
              "0  9976970                아 더빙.. 진짜 짜증나네요 목소리      0\n",
              "1  3819312  흠...포스터보고 초딩영화줄....오버연기조차 가볍지 않구나      1"
            ],
            "text/html": [
              "\n",
              "  <div id=\"df-4ed63a1a-7eec-4040-aeec-a01de07c4a40\" class=\"colab-df-container\">\n",
              "    <div>\n",
              "<style scoped>\n",
              "    .dataframe tbody tr th:only-of-type {\n",
              "        vertical-align: middle;\n",
              "    }\n",
              "\n",
              "    .dataframe tbody tr th {\n",
              "        vertical-align: top;\n",
              "    }\n",
              "\n",
              "    .dataframe thead th {\n",
              "        text-align: right;\n",
              "    }\n",
              "</style>\n",
              "<table border=\"1\" class=\"dataframe\">\n",
              "  <thead>\n",
              "    <tr style=\"text-align: right;\">\n",
              "      <th></th>\n",
              "      <th>id</th>\n",
              "      <th>document</th>\n",
              "      <th>label</th>\n",
              "    </tr>\n",
              "  </thead>\n",
              "  <tbody>\n",
              "    <tr>\n",
              "      <th>0</th>\n",
              "      <td>9976970</td>\n",
              "      <td>아 더빙.. 진짜 짜증나네요 목소리</td>\n",
              "      <td>0</td>\n",
              "    </tr>\n",
              "    <tr>\n",
              "      <th>1</th>\n",
              "      <td>3819312</td>\n",
              "      <td>흠...포스터보고 초딩영화줄....오버연기조차 가볍지 않구나</td>\n",
              "      <td>1</td>\n",
              "    </tr>\n",
              "  </tbody>\n",
              "</table>\n",
              "</div>\n",
              "    <div class=\"colab-df-buttons\">\n",
              "\n",
              "  <div class=\"colab-df-container\">\n",
              "    <button class=\"colab-df-convert\" onclick=\"convertToInteractive('df-4ed63a1a-7eec-4040-aeec-a01de07c4a40')\"\n",
              "            title=\"Convert this dataframe to an interactive table.\"\n",
              "            style=\"display:none;\">\n",
              "\n",
              "  <svg xmlns=\"http://www.w3.org/2000/svg\" height=\"24px\" viewBox=\"0 -960 960 960\">\n",
              "    <path d=\"M120-120v-720h720v720H120Zm60-500h600v-160H180v160Zm220 220h160v-160H400v160Zm0 220h160v-160H400v160ZM180-400h160v-160H180v160Zm440 0h160v-160H620v160ZM180-180h160v-160H180v160Zm440 0h160v-160H620v160Z\"/>\n",
              "  </svg>\n",
              "    </button>\n",
              "\n",
              "  <style>\n",
              "    .colab-df-container {\n",
              "      display:flex;\n",
              "      gap: 12px;\n",
              "    }\n",
              "\n",
              "    .colab-df-convert {\n",
              "      background-color: #E8F0FE;\n",
              "      border: none;\n",
              "      border-radius: 50%;\n",
              "      cursor: pointer;\n",
              "      display: none;\n",
              "      fill: #1967D2;\n",
              "      height: 32px;\n",
              "      padding: 0 0 0 0;\n",
              "      width: 32px;\n",
              "    }\n",
              "\n",
              "    .colab-df-convert:hover {\n",
              "      background-color: #E2EBFA;\n",
              "      box-shadow: 0px 1px 2px rgba(60, 64, 67, 0.3), 0px 1px 3px 1px rgba(60, 64, 67, 0.15);\n",
              "      fill: #174EA6;\n",
              "    }\n",
              "\n",
              "    .colab-df-buttons div {\n",
              "      margin-bottom: 4px;\n",
              "    }\n",
              "\n",
              "    [theme=dark] .colab-df-convert {\n",
              "      background-color: #3B4455;\n",
              "      fill: #D2E3FC;\n",
              "    }\n",
              "\n",
              "    [theme=dark] .colab-df-convert:hover {\n",
              "      background-color: #434B5C;\n",
              "      box-shadow: 0px 1px 3px 1px rgba(0, 0, 0, 0.15);\n",
              "      filter: drop-shadow(0px 1px 2px rgba(0, 0, 0, 0.3));\n",
              "      fill: #FFFFFF;\n",
              "    }\n",
              "  </style>\n",
              "\n",
              "    <script>\n",
              "      const buttonEl =\n",
              "        document.querySelector('#df-4ed63a1a-7eec-4040-aeec-a01de07c4a40 button.colab-df-convert');\n",
              "      buttonEl.style.display =\n",
              "        google.colab.kernel.accessAllowed ? 'block' : 'none';\n",
              "\n",
              "      async function convertToInteractive(key) {\n",
              "        const element = document.querySelector('#df-4ed63a1a-7eec-4040-aeec-a01de07c4a40');\n",
              "        const dataTable =\n",
              "          await google.colab.kernel.invokeFunction('convertToInteractive',\n",
              "                                                    [key], {});\n",
              "        if (!dataTable) return;\n",
              "\n",
              "        const docLinkHtml = 'Like what you see? Visit the ' +\n",
              "          '<a target=\"_blank\" href=https://colab.research.google.com/notebooks/data_table.ipynb>data table notebook</a>'\n",
              "          + ' to learn more about interactive tables.';\n",
              "        element.innerHTML = '';\n",
              "        dataTable['output_type'] = 'display_data';\n",
              "        await google.colab.output.renderOutput(dataTable, element);\n",
              "        const docLink = document.createElement('div');\n",
              "        docLink.innerHTML = docLinkHtml;\n",
              "        element.appendChild(docLink);\n",
              "      }\n",
              "    </script>\n",
              "  </div>\n",
              "\n",
              "\n",
              "    <div id=\"df-b8286c39-1f0d-4778-8f16-f64abc50b1da\">\n",
              "      <button class=\"colab-df-quickchart\" onclick=\"quickchart('df-b8286c39-1f0d-4778-8f16-f64abc50b1da')\"\n",
              "                title=\"Suggest charts\"\n",
              "                style=\"display:none;\">\n",
              "\n",
              "<svg xmlns=\"http://www.w3.org/2000/svg\" height=\"24px\"viewBox=\"0 0 24 24\"\n",
              "     width=\"24px\">\n",
              "    <g>\n",
              "        <path d=\"M19 3H5c-1.1 0-2 .9-2 2v14c0 1.1.9 2 2 2h14c1.1 0 2-.9 2-2V5c0-1.1-.9-2-2-2zM9 17H7v-7h2v7zm4 0h-2V7h2v10zm4 0h-2v-4h2v4z\"/>\n",
              "    </g>\n",
              "</svg>\n",
              "      </button>\n",
              "\n",
              "<style>\n",
              "  .colab-df-quickchart {\n",
              "      --bg-color: #E8F0FE;\n",
              "      --fill-color: #1967D2;\n",
              "      --hover-bg-color: #E2EBFA;\n",
              "      --hover-fill-color: #174EA6;\n",
              "      --disabled-fill-color: #AAA;\n",
              "      --disabled-bg-color: #DDD;\n",
              "  }\n",
              "\n",
              "  [theme=dark] .colab-df-quickchart {\n",
              "      --bg-color: #3B4455;\n",
              "      --fill-color: #D2E3FC;\n",
              "      --hover-bg-color: #434B5C;\n",
              "      --hover-fill-color: #FFFFFF;\n",
              "      --disabled-bg-color: #3B4455;\n",
              "      --disabled-fill-color: #666;\n",
              "  }\n",
              "\n",
              "  .colab-df-quickchart {\n",
              "    background-color: var(--bg-color);\n",
              "    border: none;\n",
              "    border-radius: 50%;\n",
              "    cursor: pointer;\n",
              "    display: none;\n",
              "    fill: var(--fill-color);\n",
              "    height: 32px;\n",
              "    padding: 0;\n",
              "    width: 32px;\n",
              "  }\n",
              "\n",
              "  .colab-df-quickchart:hover {\n",
              "    background-color: var(--hover-bg-color);\n",
              "    box-shadow: 0 1px 2px rgba(60, 64, 67, 0.3), 0 1px 3px 1px rgba(60, 64, 67, 0.15);\n",
              "    fill: var(--button-hover-fill-color);\n",
              "  }\n",
              "\n",
              "  .colab-df-quickchart-complete:disabled,\n",
              "  .colab-df-quickchart-complete:disabled:hover {\n",
              "    background-color: var(--disabled-bg-color);\n",
              "    fill: var(--disabled-fill-color);\n",
              "    box-shadow: none;\n",
              "  }\n",
              "\n",
              "  .colab-df-spinner {\n",
              "    border: 2px solid var(--fill-color);\n",
              "    border-color: transparent;\n",
              "    border-bottom-color: var(--fill-color);\n",
              "    animation:\n",
              "      spin 1s steps(1) infinite;\n",
              "  }\n",
              "\n",
              "  @keyframes spin {\n",
              "    0% {\n",
              "      border-color: transparent;\n",
              "      border-bottom-color: var(--fill-color);\n",
              "      border-left-color: var(--fill-color);\n",
              "    }\n",
              "    20% {\n",
              "      border-color: transparent;\n",
              "      border-left-color: var(--fill-color);\n",
              "      border-top-color: var(--fill-color);\n",
              "    }\n",
              "    30% {\n",
              "      border-color: transparent;\n",
              "      border-left-color: var(--fill-color);\n",
              "      border-top-color: var(--fill-color);\n",
              "      border-right-color: var(--fill-color);\n",
              "    }\n",
              "    40% {\n",
              "      border-color: transparent;\n",
              "      border-right-color: var(--fill-color);\n",
              "      border-top-color: var(--fill-color);\n",
              "    }\n",
              "    60% {\n",
              "      border-color: transparent;\n",
              "      border-right-color: var(--fill-color);\n",
              "    }\n",
              "    80% {\n",
              "      border-color: transparent;\n",
              "      border-right-color: var(--fill-color);\n",
              "      border-bottom-color: var(--fill-color);\n",
              "    }\n",
              "    90% {\n",
              "      border-color: transparent;\n",
              "      border-bottom-color: var(--fill-color);\n",
              "    }\n",
              "  }\n",
              "</style>\n",
              "\n",
              "      <script>\n",
              "        async function quickchart(key) {\n",
              "          const quickchartButtonEl =\n",
              "            document.querySelector('#' + key + ' button');\n",
              "          quickchartButtonEl.disabled = true;  // To prevent multiple clicks.\n",
              "          quickchartButtonEl.classList.add('colab-df-spinner');\n",
              "          try {\n",
              "            const charts = await google.colab.kernel.invokeFunction(\n",
              "                'suggestCharts', [key], {});\n",
              "          } catch (error) {\n",
              "            console.error('Error during call to suggestCharts:', error);\n",
              "          }\n",
              "          quickchartButtonEl.classList.remove('colab-df-spinner');\n",
              "          quickchartButtonEl.classList.add('colab-df-quickchart-complete');\n",
              "        }\n",
              "        (() => {\n",
              "          let quickchartButtonEl =\n",
              "            document.querySelector('#df-b8286c39-1f0d-4778-8f16-f64abc50b1da button');\n",
              "          quickchartButtonEl.style.display =\n",
              "            google.colab.kernel.accessAllowed ? 'block' : 'none';\n",
              "        })();\n",
              "      </script>\n",
              "    </div>\n",
              "\n",
              "    </div>\n",
              "  </div>\n"
            ],
            "application/vnd.google.colaboratory.intrinsic+json": {
              "type": "dataframe",
              "variable_name": "df_train"
            }
          },
          "metadata": {},
          "execution_count": 4
        }
      ]
    },
    {
      "cell_type": "code",
      "metadata": {
        "colab": {
          "base_uri": "https://localhost:8080/",
          "height": 112
        },
        "id": "SmKAgkvMCfwu",
        "outputId": "b86833a5-f0f1-41d4-ba59-f7548c363930"
      },
      "source": [
        "df_test.head(2)"
      ],
      "execution_count": 5,
      "outputs": [
        {
          "output_type": "execute_result",
          "data": {
            "text/plain": [
              "        id              document  label\n",
              "0  6270596                   굳 ㅋ      1\n",
              "1  9274899  GDNTOPCLASSINTHECLUB      0"
            ],
            "text/html": [
              "\n",
              "  <div id=\"df-b4e9cec6-00a3-45c6-a3c8-0c76e1fbd7a0\" class=\"colab-df-container\">\n",
              "    <div>\n",
              "<style scoped>\n",
              "    .dataframe tbody tr th:only-of-type {\n",
              "        vertical-align: middle;\n",
              "    }\n",
              "\n",
              "    .dataframe tbody tr th {\n",
              "        vertical-align: top;\n",
              "    }\n",
              "\n",
              "    .dataframe thead th {\n",
              "        text-align: right;\n",
              "    }\n",
              "</style>\n",
              "<table border=\"1\" class=\"dataframe\">\n",
              "  <thead>\n",
              "    <tr style=\"text-align: right;\">\n",
              "      <th></th>\n",
              "      <th>id</th>\n",
              "      <th>document</th>\n",
              "      <th>label</th>\n",
              "    </tr>\n",
              "  </thead>\n",
              "  <tbody>\n",
              "    <tr>\n",
              "      <th>0</th>\n",
              "      <td>6270596</td>\n",
              "      <td>굳 ㅋ</td>\n",
              "      <td>1</td>\n",
              "    </tr>\n",
              "    <tr>\n",
              "      <th>1</th>\n",
              "      <td>9274899</td>\n",
              "      <td>GDNTOPCLASSINTHECLUB</td>\n",
              "      <td>0</td>\n",
              "    </tr>\n",
              "  </tbody>\n",
              "</table>\n",
              "</div>\n",
              "    <div class=\"colab-df-buttons\">\n",
              "\n",
              "  <div class=\"colab-df-container\">\n",
              "    <button class=\"colab-df-convert\" onclick=\"convertToInteractive('df-b4e9cec6-00a3-45c6-a3c8-0c76e1fbd7a0')\"\n",
              "            title=\"Convert this dataframe to an interactive table.\"\n",
              "            style=\"display:none;\">\n",
              "\n",
              "  <svg xmlns=\"http://www.w3.org/2000/svg\" height=\"24px\" viewBox=\"0 -960 960 960\">\n",
              "    <path d=\"M120-120v-720h720v720H120Zm60-500h600v-160H180v160Zm220 220h160v-160H400v160Zm0 220h160v-160H400v160ZM180-400h160v-160H180v160Zm440 0h160v-160H620v160ZM180-180h160v-160H180v160Zm440 0h160v-160H620v160Z\"/>\n",
              "  </svg>\n",
              "    </button>\n",
              "\n",
              "  <style>\n",
              "    .colab-df-container {\n",
              "      display:flex;\n",
              "      gap: 12px;\n",
              "    }\n",
              "\n",
              "    .colab-df-convert {\n",
              "      background-color: #E8F0FE;\n",
              "      border: none;\n",
              "      border-radius: 50%;\n",
              "      cursor: pointer;\n",
              "      display: none;\n",
              "      fill: #1967D2;\n",
              "      height: 32px;\n",
              "      padding: 0 0 0 0;\n",
              "      width: 32px;\n",
              "    }\n",
              "\n",
              "    .colab-df-convert:hover {\n",
              "      background-color: #E2EBFA;\n",
              "      box-shadow: 0px 1px 2px rgba(60, 64, 67, 0.3), 0px 1px 3px 1px rgba(60, 64, 67, 0.15);\n",
              "      fill: #174EA6;\n",
              "    }\n",
              "\n",
              "    .colab-df-buttons div {\n",
              "      margin-bottom: 4px;\n",
              "    }\n",
              "\n",
              "    [theme=dark] .colab-df-convert {\n",
              "      background-color: #3B4455;\n",
              "      fill: #D2E3FC;\n",
              "    }\n",
              "\n",
              "    [theme=dark] .colab-df-convert:hover {\n",
              "      background-color: #434B5C;\n",
              "      box-shadow: 0px 1px 3px 1px rgba(0, 0, 0, 0.15);\n",
              "      filter: drop-shadow(0px 1px 2px rgba(0, 0, 0, 0.3));\n",
              "      fill: #FFFFFF;\n",
              "    }\n",
              "  </style>\n",
              "\n",
              "    <script>\n",
              "      const buttonEl =\n",
              "        document.querySelector('#df-b4e9cec6-00a3-45c6-a3c8-0c76e1fbd7a0 button.colab-df-convert');\n",
              "      buttonEl.style.display =\n",
              "        google.colab.kernel.accessAllowed ? 'block' : 'none';\n",
              "\n",
              "      async function convertToInteractive(key) {\n",
              "        const element = document.querySelector('#df-b4e9cec6-00a3-45c6-a3c8-0c76e1fbd7a0');\n",
              "        const dataTable =\n",
              "          await google.colab.kernel.invokeFunction('convertToInteractive',\n",
              "                                                    [key], {});\n",
              "        if (!dataTable) return;\n",
              "\n",
              "        const docLinkHtml = 'Like what you see? Visit the ' +\n",
              "          '<a target=\"_blank\" href=https://colab.research.google.com/notebooks/data_table.ipynb>data table notebook</a>'\n",
              "          + ' to learn more about interactive tables.';\n",
              "        element.innerHTML = '';\n",
              "        dataTable['output_type'] = 'display_data';\n",
              "        await google.colab.output.renderOutput(dataTable, element);\n",
              "        const docLink = document.createElement('div');\n",
              "        docLink.innerHTML = docLinkHtml;\n",
              "        element.appendChild(docLink);\n",
              "      }\n",
              "    </script>\n",
              "  </div>\n",
              "\n",
              "\n",
              "    <div id=\"df-ce46f6b3-4842-462a-9a86-558de33a87d3\">\n",
              "      <button class=\"colab-df-quickchart\" onclick=\"quickchart('df-ce46f6b3-4842-462a-9a86-558de33a87d3')\"\n",
              "                title=\"Suggest charts\"\n",
              "                style=\"display:none;\">\n",
              "\n",
              "<svg xmlns=\"http://www.w3.org/2000/svg\" height=\"24px\"viewBox=\"0 0 24 24\"\n",
              "     width=\"24px\">\n",
              "    <g>\n",
              "        <path d=\"M19 3H5c-1.1 0-2 .9-2 2v14c0 1.1.9 2 2 2h14c1.1 0 2-.9 2-2V5c0-1.1-.9-2-2-2zM9 17H7v-7h2v7zm4 0h-2V7h2v10zm4 0h-2v-4h2v4z\"/>\n",
              "    </g>\n",
              "</svg>\n",
              "      </button>\n",
              "\n",
              "<style>\n",
              "  .colab-df-quickchart {\n",
              "      --bg-color: #E8F0FE;\n",
              "      --fill-color: #1967D2;\n",
              "      --hover-bg-color: #E2EBFA;\n",
              "      --hover-fill-color: #174EA6;\n",
              "      --disabled-fill-color: #AAA;\n",
              "      --disabled-bg-color: #DDD;\n",
              "  }\n",
              "\n",
              "  [theme=dark] .colab-df-quickchart {\n",
              "      --bg-color: #3B4455;\n",
              "      --fill-color: #D2E3FC;\n",
              "      --hover-bg-color: #434B5C;\n",
              "      --hover-fill-color: #FFFFFF;\n",
              "      --disabled-bg-color: #3B4455;\n",
              "      --disabled-fill-color: #666;\n",
              "  }\n",
              "\n",
              "  .colab-df-quickchart {\n",
              "    background-color: var(--bg-color);\n",
              "    border: none;\n",
              "    border-radius: 50%;\n",
              "    cursor: pointer;\n",
              "    display: none;\n",
              "    fill: var(--fill-color);\n",
              "    height: 32px;\n",
              "    padding: 0;\n",
              "    width: 32px;\n",
              "  }\n",
              "\n",
              "  .colab-df-quickchart:hover {\n",
              "    background-color: var(--hover-bg-color);\n",
              "    box-shadow: 0 1px 2px rgba(60, 64, 67, 0.3), 0 1px 3px 1px rgba(60, 64, 67, 0.15);\n",
              "    fill: var(--button-hover-fill-color);\n",
              "  }\n",
              "\n",
              "  .colab-df-quickchart-complete:disabled,\n",
              "  .colab-df-quickchart-complete:disabled:hover {\n",
              "    background-color: var(--disabled-bg-color);\n",
              "    fill: var(--disabled-fill-color);\n",
              "    box-shadow: none;\n",
              "  }\n",
              "\n",
              "  .colab-df-spinner {\n",
              "    border: 2px solid var(--fill-color);\n",
              "    border-color: transparent;\n",
              "    border-bottom-color: var(--fill-color);\n",
              "    animation:\n",
              "      spin 1s steps(1) infinite;\n",
              "  }\n",
              "\n",
              "  @keyframes spin {\n",
              "    0% {\n",
              "      border-color: transparent;\n",
              "      border-bottom-color: var(--fill-color);\n",
              "      border-left-color: var(--fill-color);\n",
              "    }\n",
              "    20% {\n",
              "      border-color: transparent;\n",
              "      border-left-color: var(--fill-color);\n",
              "      border-top-color: var(--fill-color);\n",
              "    }\n",
              "    30% {\n",
              "      border-color: transparent;\n",
              "      border-left-color: var(--fill-color);\n",
              "      border-top-color: var(--fill-color);\n",
              "      border-right-color: var(--fill-color);\n",
              "    }\n",
              "    40% {\n",
              "      border-color: transparent;\n",
              "      border-right-color: var(--fill-color);\n",
              "      border-top-color: var(--fill-color);\n",
              "    }\n",
              "    60% {\n",
              "      border-color: transparent;\n",
              "      border-right-color: var(--fill-color);\n",
              "    }\n",
              "    80% {\n",
              "      border-color: transparent;\n",
              "      border-right-color: var(--fill-color);\n",
              "      border-bottom-color: var(--fill-color);\n",
              "    }\n",
              "    90% {\n",
              "      border-color: transparent;\n",
              "      border-bottom-color: var(--fill-color);\n",
              "    }\n",
              "  }\n",
              "</style>\n",
              "\n",
              "      <script>\n",
              "        async function quickchart(key) {\n",
              "          const quickchartButtonEl =\n",
              "            document.querySelector('#' + key + ' button');\n",
              "          quickchartButtonEl.disabled = true;  // To prevent multiple clicks.\n",
              "          quickchartButtonEl.classList.add('colab-df-spinner');\n",
              "          try {\n",
              "            const charts = await google.colab.kernel.invokeFunction(\n",
              "                'suggestCharts', [key], {});\n",
              "          } catch (error) {\n",
              "            console.error('Error during call to suggestCharts:', error);\n",
              "          }\n",
              "          quickchartButtonEl.classList.remove('colab-df-spinner');\n",
              "          quickchartButtonEl.classList.add('colab-df-quickchart-complete');\n",
              "        }\n",
              "        (() => {\n",
              "          let quickchartButtonEl =\n",
              "            document.querySelector('#df-ce46f6b3-4842-462a-9a86-558de33a87d3 button');\n",
              "          quickchartButtonEl.style.display =\n",
              "            google.colab.kernel.accessAllowed ? 'block' : 'none';\n",
              "        })();\n",
              "      </script>\n",
              "    </div>\n",
              "\n",
              "    </div>\n",
              "  </div>\n"
            ],
            "application/vnd.google.colaboratory.intrinsic+json": {
              "type": "dataframe",
              "variable_name": "df_test",
              "summary": "{\n  \"name\": \"df_test\",\n  \"rows\": 50000,\n  \"fields\": [\n    {\n      \"column\": \"id\",\n      \"properties\": {\n        \"dtype\": \"number\",\n        \"std\": 2936823,\n        \"min\": 601,\n        \"max\": 10278090,\n        \"num_unique_values\": 50000,\n        \"samples\": [\n          9147749,\n          498994,\n          7415980\n        ],\n        \"semantic_type\": \"\",\n        \"description\": \"\"\n      }\n    },\n    {\n      \"column\": \"document\",\n      \"properties\": {\n        \"dtype\": \"string\",\n        \"num_unique_values\": 49158,\n        \"samples\": [\n          \"\\uc774\\uac8c\\uc65c \\ud3c9\\uc810\\uc774 \\ub0ae\\uc740\\uac78\\uae4c. \\ubaa8\\ub974\\uaca0\\ub139 \\u314b\\\\\",\n          \"\\ub098\\ub9cc \\uc7ac\\ubc0b\\uac8c\\ubcf8\\uac74 \\uc544\\ub2c8\\uc8e0?\",\n          \"\\uc6d0\\ub798 \\uc6d0\\uc791\\uc744 \\uc774\\ub807\\uac8c \\uc7ac\\ubbf8\\uc5c6\\uac8c \\ubc14\\uafb8\\uae30\\ub3c4 \\uc2f6\\uc9c0 \\uc54a\\uc558\\uaca0\\ub2e4.\"\n        ],\n        \"semantic_type\": \"\",\n        \"description\": \"\"\n      }\n    },\n    {\n      \"column\": \"label\",\n      \"properties\": {\n        \"dtype\": \"number\",\n        \"std\": 0,\n        \"min\": 0,\n        \"max\": 1,\n        \"num_unique_values\": 2,\n        \"samples\": [\n          0,\n          1\n        ],\n        \"semantic_type\": \"\",\n        \"description\": \"\"\n      }\n    }\n  ]\n}"
            }
          },
          "metadata": {},
          "execution_count": 5
        }
      ]
    },
    {
      "cell_type": "code",
      "metadata": {
        "id": "6czFe5D5MhgA"
      },
      "source": [
        "text_train, y_train = df_train['document'].values, df_train['label'].values\n",
        "text_test, y_test = df_test['document'].values, df_test['label'].values"
      ],
      "execution_count": 6,
      "outputs": []
    },
    {
      "cell_type": "code",
      "metadata": {
        "colab": {
          "base_uri": "https://localhost:8080/"
        },
        "id": "nzn8-rhIV4qs",
        "outputId": "fdb3bd86-6bb6-47d9-bf63-b3cc6cbaf178"
      },
      "source": [
        "text_train.shape, text_test.shape   # too big"
      ],
      "execution_count": 7,
      "outputs": [
        {
          "output_type": "execute_result",
          "data": {
            "text/plain": [
              "((150000,), (50000,))"
            ]
          },
          "metadata": {},
          "execution_count": 7
        }
      ]
    },
    {
      "cell_type": "code",
      "metadata": {
        "id": "kjn5HJGFWBuF"
      },
      "source": [
        "text_train, y_train = text_train[:2000], y_train[:2000]\n",
        "text_test, y_test = text_test[:1000], y_test[:1000]"
      ],
      "execution_count": 8,
      "outputs": []
    },
    {
      "cell_type": "code",
      "metadata": {
        "colab": {
          "base_uri": "https://localhost:8080/"
        },
        "id": "T1_eeFpFWYLu",
        "outputId": "38f3e342-555d-42a3-ad33-d69e3a70cd17"
      },
      "source": [
        "text_train.shape, text_test.shape"
      ],
      "execution_count": 9,
      "outputs": [
        {
          "output_type": "execute_result",
          "data": {
            "text/plain": [
              "((2000,), (1000,))"
            ]
          },
          "metadata": {},
          "execution_count": 9
        }
      ]
    },
    {
      "cell_type": "code",
      "metadata": {
        "id": "Gy5fHajqPO0w"
      },
      "source": [
        "from konlpy.tag import Okt\n",
        "\n",
        "def okt_tokenizer(text):\n",
        "    return Okt().morphs(text)\n"
      ],
      "execution_count": 10,
      "outputs": []
    },
    {
      "cell_type": "code",
      "source": [
        "cv = TfidfVectorizer(tokenizer=okt_tokenizer, max_features = 1000, min_df=5)\n",
        "x_train = cv.fit_transform(text_train)\n",
        "x_test = cv.transform(text_test)\n",
        "print(x_train.shape, x_test.shape, y_train.shape, y_test.shape)"
      ],
      "metadata": {
        "colab": {
          "base_uri": "https://localhost:8080/"
        },
        "id": "rx5PF7aaG_bl",
        "outputId": "0df2512d-7991-446f-e0a0-37537794c51a"
      },
      "execution_count": 11,
      "outputs": [
        {
          "output_type": "stream",
          "name": "stderr",
          "text": [
            "/usr/local/lib/python3.12/dist-packages/sklearn/feature_extraction/text.py:517: UserWarning: The parameter 'token_pattern' will not be used since 'tokenizer' is not None'\n",
            "  warnings.warn(\n"
          ]
        },
        {
          "output_type": "stream",
          "name": "stdout",
          "text": [
            "(2000, 794) (1000, 794) (2000,) (1000,)\n"
          ]
        }
      ]
    },
    {
      "cell_type": "code",
      "metadata": {
        "colab": {
          "base_uri": "https://localhost:8080/"
        },
        "id": "6Z7NFXb_w4Uq",
        "outputId": "dd7511b0-ad00-4842-b9a9-0f3e2d12da31"
      },
      "source": [
        "print(cv.vocabulary_)\n",
        "print(cv.get_feature_names_out()[-10:])"
      ],
      "execution_count": 12,
      "outputs": [
        {
          "output_type": "stream",
          "name": "stdout",
          "text": [
            "{'아': np.int64(432), '더빙': np.int64(211), '..': np.int64(13), '진짜': np.int64(693), '흠': np.int64(791), '...': np.int64(14), '포스터': np.int64(742), '보고': np.int64(326), '영화': np.int64(520), '줄': np.int64(680), '....': np.int64(15), '연기': np.int64(512), '너': np.int64(174), '추천': np.int64(716), '한': np.int64(760), '다': np.int64(194), '이야기': np.int64(579), '솔직히': np.int64(402), '재미': np.int64(622), '는': np.int64(190), '없다': np.int64(484), '평점': np.int64(741), '그': np.int64(119), '의': np.int64(555), '가': np.int64(60), '!': np.int64(0), '에서': np.int64(496), '했던': np.int64(777), '너무나도': np.int64(177), '막': np.int64(261), '3': np.int64(24), '세': np.int64(392), '부터': np.int64(360), '초등학교': np.int64(708), '1': np.int64(20), '8': np.int64(28), '.': np.int64(12), 'ㅋㅋㅋ': np.int64(50), '별': np.int64(321), '반개': np.int64(314), '도': np.int64(213), '아까': np.int64(433), '움': np.int64(542), '원작': np.int64(546), '긴장감': np.int64(145), '을': np.int64(553), '제대로': np.int64(656), '했다': np.int64(776), '아깝다': np.int64(436), '욕': np.int64(537), '나온다': np.int64(160), '연': np.int64(511), '기': np.int64(138), '이': np.int64(557), '몇': np.int64(289), '년': np.int64(181), '인지': np.int64(596), '정말': np.int64(653), '로': np.int64(253), '해도': np.int64(772), '그것': np.int64(120), '만': np.int64(263), '드라마': np.int64(229), '가족': np.int64(68), '못': np.int64(297), '하는': np.int64(751), '사람': np.int64(370), '네': np.int64(179), '액션': np.int64(465), '있는': np.int64(602), '안되는': np.int64(453), '?': np.int64(33), '꽤': np.int64(151), '볼': np.int64(344), '데': np.int64(212), '식': np.int64(422), '너무': np.int64(175), '걍': np.int64(89), '짱': np.int64(699), '이다': np.int64(563), '♥': np.int64(45), '마다': np.int64(257), '90년': np.int64(30), '자극': np.int64(608), '!!': np.int64(1), '감성': np.int64(76), '멜로': np.int64(285), '~': np.int64(43), '서': np.int64(387), '손': np.int64(401), '들': np.int64(231), '고': np.int64(105), '때': np.int64(238), '뻔': np.int64(366), '해': np.int64(771), '좋다': np.int64(667), '보다': np.int64(334), '보면': np.int64(336), '것': np.int64(99), '취향': np.int64(718), '은': np.int64(552), '에': np.int64(492), '극장': np.int64(134), '본': np.int64(341), '중': np.int64(681), '가장': np.int64(67), '노잼': np.int64(184), '감동': np.int64(75), '임': np.int64(599), '스토리': np.int64(411), '되고': np.int64(219), 'ㅠㅠ': np.int64(57), '참': np.int64(702), '면': np.int64(286), '코': np.int64(722), '라고': np.int64(244), '이라고': np.int64(566), '그냥': np.int64(121), '난': np.int64(164), '처럼': np.int64(705), '인': np.int64(589), '이해': np.int64(587), '하는데': np.int64(753), '왜': np.int64(533), '갈수록': np.int64(72), '이건': np.int64(558), '캐스팅': np.int64(721), '과': np.int64(110), '하': np.int64(746), '지': np.int64(684), '않은': np.int64(457), '내': np.int64(170), '잘': np.int64(617), '자': np.int64(607), '를': np.int64(256), '위': np.int64(547), ',': np.int64(9), '이라': np.int64(565), '저': np.int64(638), '놈': np.int64(185), '절대': np.int64(646), '아닌': np.int64(441), '걸': np.int64(96), '요': np.int64(535), '나름': np.int64(157), '듯': np.int64(232), '보면서': np.int64(337), '않는': np.int64(455), '건': np.int64(93), '재미없다': np.int64(625), '지루하고': np.int64(686), '같은': np.int64(81), '인데': np.int64(593), '하고': np.int64(748), '넘': np.int64(178), '있고': np.int64(601), '보는': np.int64(329), ';': np.int64(31), '게': np.int64(100), '별로': np.int64(322), '안': np.int64(452), '나오고': np.int64(158), '이라도': np.int64(568), '구': np.int64(113), '나옴': np.int64(161), 'ㅡㅡ': np.int64(59), '수작': np.int64(404), '주제': np.int64(677), '지루하다': np.int64(687), '야': np.int64(466), '그래서': np.int64(126), '할': np.int64(767), '수': np.int64(403), '꼭': np.int64(150), '2': np.int64(23), '연출': np.int64(515), '력': np.int64(252), '9': np.int64(29), '점': np.int64(647), '다시': np.int64(196), '한번': np.int64(765), '적': np.int64(639), '남': np.int64(166), '님': np.int64(193), '좋았어요': np.int64(671), '완전': np.int64(532), '쓰레기': np.int64(429), '도안': np.int64(215), 'ㅋㅋ': np.int64(49), '시간': np.int64(415), '아까워': np.int64(435), '재밌는데': np.int64(633), '이리': np.int64(574), '라도': np.int64(247), '입니다': np.int64(600), '아직도': np.int64(451), '인생': np.int64(595), '최고': np.int64(712), '대한': np.int64(207), '대체': np.int64(206), '정신': np.int64(654), '관객': np.int64(111), '이네': np.int64(562), '이렇게': np.int64(572), '평가': np.int64(739), '모르겠다': np.int64(292), '매력': np.int64(278), \"'\": np.int64(6), '인가': np.int64(590), '내용': np.int64(172), '없고': np.int64(481), '하나': np.int64(750), '없음': np.int64(488), 'ㅇ': np.int64(46), '맘': np.int64(274), '또': np.int64(241), '방법': np.int64(316), '이라는': np.int64(567), '멋진': np.int64(284), '배우': np.int64(318), '하게': np.int64(747), '일': np.int64(597), '잔잔한': np.int64(616), '합니다': np.int64(770), '음악': np.int64(554), '조금': np.int64(660), '주고': np.int64(674), '10': np.int64(21), '^^': np.int64(36), '돈': np.int64(216), '큰': np.int64(725), '공감': np.int64(107), '캐릭터': np.int64(720), '상': np.int64(379), '였음': np.int64(517), '극': np.int64(133), '초반': np.int64(709), '엔': np.int64(501), '가면': np.int64(63), 'ㅋ': np.int64(48), '수준': np.int64(405), '딱': np.int64(236), '알': np.int64(458), 'ㅉㅉ': np.int64(47), '우리': np.int64(539), '사랑': np.int64(371), '나도': np.int64(155), '싶다': np.int64(427), '이랑': np.int64(570), '이나': np.int64(560), '소설': np.int64(398), '속': np.int64(400), '에선': np.int64(499), '제일': np.int64(659), '라': np.int64(243), '터': np.int64(728), '(': np.int64(7), '용': np.int64(538), ')': np.int64(8), '웃음': np.int64(544), '감독': np.int64(74), '-': np.int64(11), '말': np.int64(272), '했음': np.int64(778), '작은': np.int64(614), '맛': np.int64(275), '가슴': np.int64(65), '있을까': np.int64(604), '자체': np.int64(611), '무슨': np.int64(300), 'oo': np.int64(39), '혼자': np.int64(783), '재미있어요': np.int64(629), '전': np.int64(640), '기분': np.int64(141), '느낌': np.int64(189), '없는': np.int64(482), '그저': np.int64(132), '생각': np.int64(385), '언제': np.int64(477), '보는내내': np.int64(331), '그대로': np.int64(123), '나와서': np.int64(162), '중간': np.int64(682), '계속': np.int64(104), '주인공': np.int64(676), '소': np.int64(395), '모습': np.int64(294), '짜증': np.int64(698), 'ㅜㅜ': np.int64(55), '전개': np.int64(641), '좀': np.int64(664), '빨리': np.int64(365), '감정': np.int64(77), '많은': np.int64(270), '다큐': np.int64(198), '우리나라': np.int64(540), '슬픈': np.int64(412), '대해': np.int64(208), '깊이': np.int64(146), '바로': np.int64(312), '위해': np.int64(548), '노력': np.int64(183), '이정': np.int64(583), '이야': np.int64(578), '살인': np.int64(376), '어디': np.int64(470), '예전': np.int64(526), '작품': np.int64(615), '삼': np.int64(378), '산': np.int64(374), '으로': np.int64(550), '시청률': np.int64(421), '이제': np.int64(584), '짜리': np.int64(697), '연기력': np.int64(513), '몰입도': np.int64(296), '에도': np.int64(495), '분': np.int64(361), '한테': np.int64(766), '일본': np.int64(598), '이런': np.int64(571), '건가': np.int64(94), '??': np.int64(34), '봤어요': np.int64(356), '재밌어요': np.int64(635), '근데': np.int64(136), '하려고': np.int64(755), '하면': np.int64(756), '집': np.int64(696), '그런': np.int64(128), '그래도': np.int64(125), '졸작': np.int64(663), '라서': np.int64(249), '더': np.int64(210), '결말': np.int64(103), '냐': np.int64(173), '매우': np.int64(279), '실망': np.int64(424), '.....': np.int64(16), '한국영': np.int64(762), '화': np.int64(784), '뭐': np.int64(304), '시작': np.int64(418), '먹고': np.int64(283), '에게': np.int64(493), '뭘': np.int64(307), '엉망': np.int64(491), '개': np.int64(85), '별루': np.int64(323), '였다': np.int64(516), '기대': np.int64(139), '되는': np.int64(220), '가요': np.int64(66), '눈': np.int64(187), '성룡': np.int64(391), '최악': np.int64(714), 'ㅋㅋㅋㅋ': np.int64(51), 'ㅋㅋㅋㅋㅋ': np.int64(52), '여': np.int64(503), '인상': np.int64(594), '와': np.int64(530), '에요': np.int64(500), '본거': np.int64(342), '설정': np.int64(389), '재밌고': np.int64(631), '새로운': np.int64(383), '재밌음': np.int64(636), '미': np.int64(308), '대박': np.int64(204), '재미없음': np.int64(626), '진심': np.int64(692), '나': np.int64(154), '두': np.int64(226), '인거': np.int64(592), '술': np.int64(407), '킬링타임': np.int64(727), '재미있게': np.int64(627), '봤습니다': np.int64(355), ';;': np.int64(32), '처음': np.int64(706), '로맨스': np.int64(254), ',,': np.int64(10), '아주': np.int64(449), '머': np.int64(280), '명작': np.int64(288), '재밌게': np.int64(630), '봤다': np.int64(353), '너무나': np.int64(176), '소재': np.int64(399), '끌': np.int64(152), '지만': np.int64(690), '몰입': np.int64(295), '보지마라': np.int64(340), '특유': np.int64(730), '현': np.int64(780), '실감': np.int64(423), '도대체': np.int64(214), '까지': np.int64(147), '따뜻한': np.int64(235), '생애': np.int64(386), '전부': np.int64(642), '하다': np.int64(754), '후': np.int64(789), '아니': np.int64(437), '대': np.int64(202), '보게': np.int64(325), '된': np.int64(223), '봐도': np.int64(347), '또한': np.int64(242), '문제': np.int64(301), '아니라': np.int64(440), '전혀': np.int64(645), '그리고': np.int64(130), '같음': np.int64(83), '~~': np.int64(44), '있음': np.int64(605), '어느': np.int64(469), '......': np.int64(17), '재미있고': np.int64(628), '영': np.int64(518), '당시': np.int64(200), '상황': np.int64(382), '그만': np.int64(131), '잼': np.int64(637), '건지': np.int64(95), '많이': np.int64(271), '성': np.int64(390), '어떤': np.int64(472), '에서도': np.int64(498), '보기': np.int64(328), '정도': np.int64(652), '본다': np.int64(343), '마지막': np.int64(260), '하지만': np.int64(759), '마세요': np.int64(258), '어떻게': np.int64(473), '살': np.int64(375), '나를': np.int64(156), '나이': np.int64(163), '작가': np.int64(613), '답': np.int64(199), '여운': np.int64(506), '남는': np.int64(168), '질': np.int64(695), '충분히': np.int64(717), '개인': np.int64(88), '역시': np.int64(510), '괜찮은': np.int64(112), '좋은': np.int64(672), '???': np.int64(35), '자신': np.int64(610), '어린이': np.int64(474), '어릴': np.int64(475), '이란': np.int64(569), '한국': np.int64(761), '오랜': np.int64(529), '봤네요': np.int64(351), '되어': np.int64(221), '오늘': np.int64(528), '완성': np.int64(531), '요즘': np.int64(536), '막장': np.int64(262), '화이팅': np.int64(787), '조절': np.int64(661), '사극': np.int64(369), '그녀': np.int64(122), '왠지': np.int64(534), '코미디': np.int64(723), '장면': np.int64(621), '\"': np.int64(4), '끝': np.int64(153), '쯤': np.int64(700), '한마디': np.int64(764), '\"\"': np.int64(5), '같다': np.int64(79), '!!!': np.int64(2), '하기': np.int64(749), '이유': np.int64(582), '니': np.int64(191), '하지': np.int64(758), '게임': np.int64(101), '않고': np.int64(454), 'cg': np.int64(38), '배경': np.int64(317), '예산': np.int64(524), '모르고': np.int64(293), '알바': np.int64(459), '4': np.int64(25), '라니': np.int64(246), '아름다운': np.int64(442), '남자': np.int64(169), '애': np.int64(462), '시종일관': np.int64(419), '상당히': np.int64(380), '!!!!': np.int64(3), '얼마나': np.int64(479), '밖에': np.int64(313), '아무': np.int64(443), '보지': np.int64(339), '티비': np.int64(733), '판': np.int64(734), '거': np.int64(90), '피': np.int64(744), '하는게': np.int64(752), '아니다': np.int64(439), '유치하고': np.int64(549), '류': np.int64(255), '어': np.int64(468), '옛날': np.int64(527), '생': np.int64(384), '봤던': np.int64(354), '추억': np.int64(715), '기존': np.int64(144), '후회': np.int64(790), '이영화': np.int64(581), '보': np.int64(324), '니까': np.int64(192), '없이': np.int64(489), '물': np.int64(302), '개봉': np.int64(86), 'ㅠ': np.int64(56), '허': np.int64(779), '청춘': np.int64(707), '순간': np.int64(406), 'tv': np.int64(42), '시리즈': np.int64(417), '아직': np.int64(450), '까지도': np.int64(148), '이고': np.int64(559), '표현': np.int64(743), '되지': np.int64(222), '시': np.int64(414), '등': np.int64(233), '히': np.int64(793), '면서': np.int64(287), '랑': np.int64(250), '원': np.int64(545), '래': np.int64(251), '해요': np.int64(774), '필요': np.int64(745), '봐라': np.int64(348), '다른': np.int64(195), '버렸다': np.int64(319), '구성': np.int64(114), '네이버': np.int64(180), '현실': np.int64(781), '그때': np.int64(124), '대사': np.int64(205), '없는데': np.int64(483), '동': np.int64(217), '급': np.int64(137), '마음': np.int64(259), '지루하지': np.int64(688), '보고싶은': np.int64(327), '비': np.int64(363), '코믹': np.int64(724), '에는': np.int64(494), '없었다': np.int64(487), 'ㅎㅎ': np.int64(54), '대가': np.int64(203), '귀신': np.int64(117), '댓글': np.int64(209), '봤지만': np.int64(357), '보는데': np.int64(332), '역': np.int64(508), '기도': np.int64(140), '전쟁': np.int64(644), '묘사': np.int64(298), '극장판': np.int64(135), '간': np.int64(70), '세계': np.int64(393), '역사': np.int64(509), '있다': np.int64(603), '딸': np.int64(237), '제발': np.int64(658), '책': np.int64(704), '미친': np.int64(309), '날': np.int64(165), '뿐': np.int64(367), '굿': np.int64(116), '같아요': np.int64(80), '제': np.int64(655), '작': np.int64(612), '.......': np.int64(18), '뭔가': np.int64(306), '부': np.int64(358), 'ooo': np.int64(40), '어디서': np.int64(471), '드': np.int64(228), '소리': np.int64(397), '스릴러': np.int64(410), '스릴': np.int64(409), '모든': np.int64(291), '봐서': np.int64(349), '기억': np.int64(142), '이름': np.int64(573), '노래': np.int64(182), '연인': np.int64(514), '웃겨': np.int64(543), '아이': np.int64(447), '내내': np.int64(171), '먹': np.int64(282), '해서': np.int64(773), '했는데': np.int64(775), '함': np.int64(768), '겁나': np.int64(98), '지루해': np.int64(689), '여자': np.int64(507), '보니': np.int64(333), '울': np.int64(541), '개연': np.int64(87), '장': np.int64(618), '당신': np.int64(201), '여배우': np.int64(505), '거기': np.int64(91), '가서': np.int64(64), '나오는': np.int64(159), 'ost': np.int64(41), '제목': np.int64(657), '지금': np.int64(685), '얘기': np.int64(467), '100': np.int64(22), '가는': np.int64(61), '슬픔': np.int64(413), '비디오': np.int64(364), '재밌다': np.int64(634), '이지': np.int64(585), '그러나': np.int64(127), '좋아': np.int64(668), '든': np.int64(230), '시나리오': np.int64(416), '싶은': np.int64(428), '5': np.int64(26), '조폭': np.int64(662), '영화로': np.int64(522), '세상': np.int64(394), '친구': np.int64(719), '영상': np.int64(519), '봤는데': np.int64(352), '주': np.int64(673), '좋고': np.int64(666), '이상': np.int64(577), '부분': np.int64(359), '있지만': np.int64(606), '진행': np.int64(694), '알았는데': np.int64(460), '0': np.int64(19), '애니메이션': np.int64(464), '재미없고': np.int64(623), '귀여운': np.int64(118), '아쉬운': np.int64(444), '만든다': np.int64(266), '말고': np.int64(273), '화보': np.int64(786), '점점': np.int64(650), '이번': np.int64(576), '결국': np.int64(102), '사회': np.int64(373), '사실': np.int64(372), '떠나': np.int64(240), '실제': np.int64(425), '중국': np.int64(683), '아까운': np.int64(434), '만드는': np.int64(264), '최고다': np.int64(713), '같은데': np.int64(82), 'ㅎ': np.int64(53), '뭔': np.int64(305), '사건': np.int64(368), '진': np.int64(691), '이지만': np.int64(586), '인간': np.int64(591), '가지': np.int64(69), '하면서': np.int64(757), '그렇게': np.int64(129), '이면': np.int64(575), '누가': np.int64(186), '삶': np.int64(377), '주는': np.int64(675), '물론': np.int64(303), '된다': np.int64(224), '망작': np.int64(276), '보세요': np.int64(338), '키': np.int64(726), '스': np.int64(408), '때문': np.int64(239), '좋았다': np.int64(670), '장난': np.int64(619), '만화': np.int64(269), '만든': np.int64(265), '이딴': np.int64(564), '라는': np.int64(245), '아니고': np.int64(438), '확실히': np.int64(788), 'ㅡ': np.int64(58), '번': np.int64(320), '이후': np.int64(588), '여기': np.int64(504), '한다': np.int64(763), '다운': np.int64(197), '둘다': np.int64(227), '보다가': np.int64(335), '됨': np.int64(225), '모두': np.int64(290), '엔딩': np.int64(502), '영화관': np.int64(521), '감': np.int64(73), '씨': np.int64(430), '참고': np.int64(703), '반전': np.int64(315), '편': np.int64(737), '없어서': np.int64(486), '평생': np.int64(740), '봄': np.int64(345), '아오': np.int64(446), '상영': np.int64(381), '않는다': np.int64(456), '미화': np.int64(310), '눈물': np.int64(188), '없어': np.int64(485), '라면': np.int64(248), '에서는': np.int64(497), '전작': np.int64(643), '씬': np.int64(431), '맞는': np.int64(277), '남녀': np.int64(167), '무': np.int64(299), '엉': np.int64(490), '아저씨': np.int64(448), '곳': np.int64(106), '희망': np.int64(792), '점수': np.int64(649), '얼굴': np.int64(478), 'b': np.int64(37), '보는게': np.int64(330), '엄청난': np.int64(480), '애니': np.int64(463), '통해': np.int64(729), '같이': np.int64(84), '간만': np.int64(71), '준다': np.int64(679), '공포': np.int64(108), '까진': np.int64(149), '머리': np.int64(281), '이냐': np.int64(561), '혹은': np.int64(782), '티': np.int64(732), '점도': np.int64(648), '자기': np.int64(609), '만의': np.int64(267), '걸작': np.int64(97), '재밌는': np.int64(632), '봐': np.int64(346), '재미없는': np.int64(624), '영화인': np.int64(523), '차라리': np.int64(701), '실화': np.int64(426), '의미': np.int64(556), '죽음': np.int64(678), '예술': np.int64(525), '공포영화': np.int64(109), '분위기': np.int64(362), '이에요': np.int64(580), '좋아하는': np.int64(669), '등장': np.int64(234), '믿고': np.int64(311), '강': np.int64(78), '팔': np.int64(735), '만하': np.int64(268), '군': np.int64(115), '7': np.int64(27), '특히': np.int64(731), '걱정': np.int64(92), '설득': np.int64(388), '봐야': np.int64(350), '평': np.int64(738), '접': np.int64(651), '장르': np.int64(620), '되': np.int64(218), '화면': np.int64(785), '알았다': np.int64(461), '좀비': np.int64(665), '기적': np.int64(143), '함께': np.int64(769), '총': np.int64(710), '아쉽다': np.int64(445), '팬': np.int64(736), '소름': np.int64(396), '으로도': np.int64(551), '촬영': np.int64(711), '시즌': np.int64(420), '어휴': np.int64(476), '가는줄': np.int64(62)}\n",
            "['화' '화면' '화보' '화이팅' '확실히' '후' '후회' '흠' '희망' '히']\n"
          ]
        }
      ]
    },
    {
      "cell_type": "code",
      "metadata": {
        "colab": {
          "base_uri": "https://localhost:8080/"
        },
        "id": "-HBAevD6wqyy",
        "outputId": "6be39ccb-4eb4-41c6-cdb9-1b703e20a77c"
      },
      "source": [
        "lr = LogisticRegression()\n",
        "lr.fit(x_train, y_train)\n",
        "print(\"train score: \", lr.score(x_train, y_train))\n",
        "print(\"test score: \", lr.score(x_test, y_test))"
      ],
      "execution_count": 13,
      "outputs": [
        {
          "output_type": "stream",
          "name": "stdout",
          "text": [
            "train score:  0.855\n",
            "test score:  0.745\n"
          ]
        }
      ]
    },
    {
      "cell_type": "markdown",
      "metadata": {
        "id": "LgVAx7WUMhgJ"
      },
      "source": [
        "# 불용어 처리\n",
        "- 한국어  불용어 확인은 형태소 분석 라이브러리인 KonLPy 를 이용하면 됨.\n",
        "- (예) 한국어 품사 중 조사를 추출하는 예\n",
        "- pos (part-of-speech): 품사 (명사, 동사, ...)"
      ]
    },
    {
      "cell_type": "code",
      "metadata": {
        "colab": {
          "base_uri": "https://localhost:8080/"
        },
        "id": "7Kk98B0mUlsr",
        "outputId": "24fc809a-66d8-485a-e775-4b2d6865b1aa"
      },
      "source": [
        "Okt().morphs(\"텍스트 데이터를 이용해서 불용어 사전을 구축\")"
      ],
      "execution_count": 14,
      "outputs": [
        {
          "output_type": "execute_result",
          "data": {
            "text/plain": [
              "['텍스트', '데이터', '를', '이용', '해서', '불', '용어', '사전', '을', '구축']"
            ]
          },
          "metadata": {},
          "execution_count": 14
        }
      ]
    },
    {
      "cell_type": "code",
      "metadata": {
        "colab": {
          "base_uri": "https://localhost:8080/"
        },
        "id": "-5_EhfHoWynd",
        "outputId": "8dd87b64-4ab1-499b-caba-66a35a777af0"
      },
      "source": [
        "Okt().pos(\"텍스트 데이터를 이용해서 불용어 사잔을 구축\")"
      ],
      "execution_count": 15,
      "outputs": [
        {
          "output_type": "execute_result",
          "data": {
            "text/plain": [
              "[('텍스트', 'Noun'),\n",
              " ('데이터', 'Noun'),\n",
              " ('를', 'Josa'),\n",
              " ('이용', 'Noun'),\n",
              " ('해서', 'Verb'),\n",
              " ('불', 'Noun'),\n",
              " ('용어', 'Noun'),\n",
              " ('사잔', 'Noun'),\n",
              " ('을', 'Josa'),\n",
              " ('구축', 'Noun')]"
            ]
          },
          "metadata": {},
          "execution_count": 15
        }
      ]
    },
    {
      "cell_type": "code",
      "metadata": {
        "colab": {
          "base_uri": "https://localhost:8080/"
        },
        "id": "rUC5dkWIXsN3",
        "outputId": "c76e6eb9-b810-4f83-976e-bc387578bbfc"
      },
      "source": [
        "Okt().pos(\"텍스트 데이터를 이용해서 불용어 사전을 구축\", norm=True)   # norm - 오타 수정 (사잔->사전)"
      ],
      "execution_count": 16,
      "outputs": [
        {
          "output_type": "execute_result",
          "data": {
            "text/plain": [
              "[('텍스트', 'Noun'),\n",
              " ('데이터', 'Noun'),\n",
              " ('를', 'Josa'),\n",
              " ('이용', 'Noun'),\n",
              " ('해서', 'Verb'),\n",
              " ('불', 'Noun'),\n",
              " ('용어', 'Noun'),\n",
              " ('사전', 'Noun'),\n",
              " ('을', 'Josa'),\n",
              " ('구축', 'Noun')]"
            ]
          },
          "metadata": {},
          "execution_count": 16
        }
      ]
    },
    {
      "cell_type": "code",
      "metadata": {
        "colab": {
          "base_uri": "https://localhost:8080/"
        },
        "id": "V5hJgSwvXQ5T",
        "outputId": "878be534-f37d-428c-bab4-55d3cc0a37a6"
      },
      "source": [
        "Okt().nouns(\"텍스트 데이터를 이용해서 불용어 사전을 구축\")"
      ],
      "execution_count": 17,
      "outputs": [
        {
          "output_type": "execute_result",
          "data": {
            "text/plain": [
              "['텍스트', '데이터', '이용', '불', '용어', '사전', '구축']"
            ]
          },
          "metadata": {},
          "execution_count": 17
        }
      ]
    },
    {
      "cell_type": "markdown",
      "metadata": {
        "id": "1hJQpd451f9-"
      },
      "source": [
        "- norm: 오타수정, stem: 어근 찾기"
      ]
    },
    {
      "cell_type": "code",
      "metadata": {
        "colab": {
          "base_uri": "https://localhost:8080/"
        },
        "id": "VziNESMRMhgK",
        "outputId": "481c080a-5496-4ee3-886a-75faa2bed941"
      },
      "source": [
        "from konlpy.tag import Okt\n",
        "\n",
        "okt = Okt()\n",
        "\n",
        "word_tags = okt.pos(\"텍스트 데이터를 이용해서 불용어 사전을 구축하기 위한 간단 예제\", norm=True, stem=True)\n",
        "print(word_tags)\n",
        "stop_words = [word[0] for word in word_tags if word[1]==\"Josa\"]\n",
        "print (stop_words)"
      ],
      "execution_count": 18,
      "outputs": [
        {
          "output_type": "stream",
          "name": "stdout",
          "text": [
            "[('텍스트', 'Noun'), ('데이터', 'Noun'), ('를', 'Josa'), ('이용', 'Noun'), ('하다', 'Verb'), ('불', 'Noun'), ('용어', 'Noun'), ('사전', 'Noun'), ('을', 'Josa'), ('구축', 'Noun'), ('하다', 'Verb'), ('위', 'Noun'), ('한', 'Josa'), ('간단', 'Noun'), ('예제', 'Noun')]\n",
            "['를', '을', '한']\n"
          ]
        }
      ]
    },
    {
      "cell_type": "code",
      "source": [
        "def okt_tokenizer2(text):\n",
        "    word_tags = okt.pos(text, norm=True, stem=True)\n",
        "    words = [word[0] for word in word_tags if word[1]!=\"Josa\" and word[1]!=\"Punctuation\"]\n",
        "    return words\n",
        "\n",
        "cv = TfidfVectorizer(tokenizer=okt_tokenizer2, max_features = 500, min_df=5)\n",
        "x_train = cv.fit_transform(text_train)\n",
        "x_test = cv.transform(text_test)\n",
        "\n",
        "lr = LogisticRegression()\n",
        "lr.fit(x_train,y_train)\n",
        "print(\"훈련 데이터 점수 : \", lr.score(x_train, y_train))\n",
        "print(\"테스트 데이터 점수 : \", lr.score(x_test, y_test))"
      ],
      "metadata": {
        "colab": {
          "base_uri": "https://localhost:8080/"
        },
        "id": "2t_3f24fH5HX",
        "outputId": "2545609e-355e-4758-8dd4-2256c0e21796"
      },
      "execution_count": 19,
      "outputs": [
        {
          "output_type": "stream",
          "name": "stderr",
          "text": [
            "/usr/local/lib/python3.12/dist-packages/sklearn/feature_extraction/text.py:517: UserWarning: The parameter 'token_pattern' will not be used since 'tokenizer' is not None'\n",
            "  warnings.warn(\n"
          ]
        },
        {
          "output_type": "stream",
          "name": "stdout",
          "text": [
            "훈련 데이터 점수 :  0.835\n",
            "테스트 데이터 점수 :  0.76\n"
          ]
        }
      ]
    },
    {
      "cell_type": "markdown",
      "metadata": {
        "id": "EsnrMwHXPO1E"
      },
      "source": [
        "# LSTM을 이용한 분석 (additional) - skip"
      ]
    },
    {
      "cell_type": "code",
      "metadata": {
        "id": "dIEZcoVsIlXL",
        "colab": {
          "base_uri": "https://localhost:8080/",
          "height": 384
        },
        "outputId": "d7bbd59c-c3b7-4f65-cf5e-d1a9c4ebc889"
      },
      "source": [
        "from konlpy.tag import Okt\n",
        "from sklearn.feature_extraction.text import TfidfVectorizer\n",
        "from tensorflow.keras.models import Sequential\n",
        "from tensorflow.keras.layers import Dense, Dropout, Activation\n",
        "from tensorflow.keras.wrappers.scikit_learn import KerasClassifier\n",
        "from tensorflow.keras import utils\n",
        "from sklearn.model_selection import train_test_split\n",
        "from sklearn import model_selection, metrics\n",
        "import numpy as np\n",
        "import pickle\n",
        "import os.path\n",
        "import tensorflow.keras.backend as K\n",
        "\n",
        "# 토큰 파서\n",
        "def twitter_tokenizer(text):\n",
        "    return Okt().morphs(text)"
      ],
      "execution_count": 20,
      "outputs": [
        {
          "output_type": "error",
          "ename": "ModuleNotFoundError",
          "evalue": "No module named 'tensorflow.keras.wrappers.scikit_learn'",
          "traceback": [
            "\u001b[0;31m---------------------------------------------------------------------------\u001b[0m",
            "\u001b[0;31mModuleNotFoundError\u001b[0m                       Traceback (most recent call last)",
            "\u001b[0;32m/tmp/ipython-input-517424324.py\u001b[0m in \u001b[0;36m<cell line: 0>\u001b[0;34m()\u001b[0m\n\u001b[1;32m      3\u001b[0m \u001b[0;32mfrom\u001b[0m \u001b[0mtensorflow\u001b[0m\u001b[0;34m.\u001b[0m\u001b[0mkeras\u001b[0m\u001b[0;34m.\u001b[0m\u001b[0mmodels\u001b[0m \u001b[0;32mimport\u001b[0m \u001b[0mSequential\u001b[0m\u001b[0;34m\u001b[0m\u001b[0;34m\u001b[0m\u001b[0m\n\u001b[1;32m      4\u001b[0m \u001b[0;32mfrom\u001b[0m \u001b[0mtensorflow\u001b[0m\u001b[0;34m.\u001b[0m\u001b[0mkeras\u001b[0m\u001b[0;34m.\u001b[0m\u001b[0mlayers\u001b[0m \u001b[0;32mimport\u001b[0m \u001b[0mDense\u001b[0m\u001b[0;34m,\u001b[0m \u001b[0mDropout\u001b[0m\u001b[0;34m,\u001b[0m \u001b[0mActivation\u001b[0m\u001b[0;34m\u001b[0m\u001b[0;34m\u001b[0m\u001b[0m\n\u001b[0;32m----> 5\u001b[0;31m \u001b[0;32mfrom\u001b[0m \u001b[0mtensorflow\u001b[0m\u001b[0;34m.\u001b[0m\u001b[0mkeras\u001b[0m\u001b[0;34m.\u001b[0m\u001b[0mwrappers\u001b[0m\u001b[0;34m.\u001b[0m\u001b[0mscikit_learn\u001b[0m \u001b[0;32mimport\u001b[0m \u001b[0mKerasClassifier\u001b[0m\u001b[0;34m\u001b[0m\u001b[0;34m\u001b[0m\u001b[0m\n\u001b[0m\u001b[1;32m      6\u001b[0m \u001b[0;32mfrom\u001b[0m \u001b[0mtensorflow\u001b[0m\u001b[0;34m.\u001b[0m\u001b[0mkeras\u001b[0m \u001b[0;32mimport\u001b[0m \u001b[0mutils\u001b[0m\u001b[0;34m\u001b[0m\u001b[0;34m\u001b[0m\u001b[0m\n\u001b[1;32m      7\u001b[0m \u001b[0;32mfrom\u001b[0m \u001b[0msklearn\u001b[0m\u001b[0;34m.\u001b[0m\u001b[0mmodel_selection\u001b[0m \u001b[0;32mimport\u001b[0m \u001b[0mtrain_test_split\u001b[0m\u001b[0;34m\u001b[0m\u001b[0;34m\u001b[0m\u001b[0m\n",
            "\u001b[0;31mModuleNotFoundError\u001b[0m: No module named 'tensorflow.keras.wrappers.scikit_learn'",
            "",
            "\u001b[0;31m---------------------------------------------------------------------------\u001b[0;32m\nNOTE: If your import is failing due to a missing package, you can\nmanually install dependencies using either !pip or !apt.\n\nTo view examples of installing some common dependencies, click the\n\"Open Examples\" button below.\n\u001b[0;31m---------------------------------------------------------------------------\u001b[0m\n"
          ],
          "errorDetails": {
            "actions": [
              {
                "action": "open_url",
                "actionText": "Open Examples",
                "url": "/notebooks/snippets/importing_libraries.ipynb"
              }
            ]
          }
        }
      ]
    },
    {
      "cell_type": "code",
      "metadata": {
        "id": "SAJKNTfzIRiC"
      },
      "source": [
        "df_train = pd.read_csv('ratings_train.txt', delimiter='\\t', keep_default_na=False)\n",
        "df_test = pd.read_csv('ratings_test.txt', delimiter='\\t', keep_default_na=False)"
      ],
      "execution_count": null,
      "outputs": []
    },
    {
      "cell_type": "code",
      "metadata": {
        "id": "otoXoKt9H6QE"
      },
      "source": [
        "print(df_train.shape, df_test.shape)\n",
        "df_train.columns, df_test.columns"
      ],
      "execution_count": null,
      "outputs": []
    },
    {
      "cell_type": "code",
      "metadata": {
        "id": "JUZvmDtuATmW"
      },
      "source": [
        "df_train, df_test = df_train[:2000], df_test[:1000]  # too big"
      ],
      "execution_count": null,
      "outputs": []
    },
    {
      "cell_type": "code",
      "metadata": {
        "scrolled": true,
        "id": "O8DeUTU5MhgP"
      },
      "source": [
        "df_data= pd.concat([df_train, df_test])\n",
        "df_data.shape, df_data.columns"
      ],
      "execution_count": null,
      "outputs": []
    },
    {
      "cell_type": "code",
      "metadata": {
        "id": "C8zebbzoPO1G"
      },
      "source": [
        "text_data, y_data = df_data['document'].values, df_data['label'].values"
      ],
      "execution_count": null,
      "outputs": []
    },
    {
      "cell_type": "code",
      "metadata": {
        "id": "PtlGfMtPPO1T"
      },
      "source": [
        "text_data.shape, y_data.shape"
      ],
      "execution_count": null,
      "outputs": []
    },
    {
      "cell_type": "code",
      "metadata": {
        "id": "fzebNNFjIz68"
      },
      "source": [
        "cv = TfidfVectorizer(tokenizer=twitter_tokenizer, max_features = 1000, min_df=5)"
      ],
      "execution_count": null,
      "outputs": []
    },
    {
      "cell_type": "code",
      "metadata": {
        "id": "F4EgTHi-PO1b"
      },
      "source": [
        "if not os.path.isfile(\"X_data.pickle\"):\n",
        "    print('file does not exists')\n",
        "    X_data = cv.fit_transform(text_data)\n",
        "    pickle.dump(X_data, open(\"X_data.pickle\", \"wb\"))"
      ],
      "execution_count": null,
      "outputs": []
    },
    {
      "cell_type": "code",
      "metadata": {
        "id": "pviIJR6ZPO1e"
      },
      "source": [
        "# 저장된 tfidf vector 데이터 읽기\n",
        "with open('X_data.pickle', 'rb') as f:\n",
        "    X_data = pickle.load(f)"
      ],
      "execution_count": null,
      "outputs": []
    },
    {
      "cell_type": "code",
      "metadata": {
        "id": "_-XaJBWGChFs"
      },
      "source": [
        "X_train, X_test, y_train, y_test = train_test_split(X_data, y_data, test_size=0.3)"
      ],
      "execution_count": null,
      "outputs": []
    },
    {
      "cell_type": "code",
      "metadata": {
        "id": "7zRdpttZJUGU"
      },
      "source": [
        "X_train.shape, X_test.shape, y_train.shape, y_test.shape"
      ],
      "execution_count": null,
      "outputs": []
    },
    {
      "cell_type": "code",
      "metadata": {
        "id": "JI6yem-OPO1q"
      },
      "source": [
        "max_words = X_train.shape[1]\n",
        "batch_size = 64\n",
        "nb_epoch = 5"
      ],
      "execution_count": null,
      "outputs": []
    },
    {
      "cell_type": "code",
      "metadata": {
        "id": "yxUfYM-PPO1w"
      },
      "source": [
        "# LSTM 학습을 위한 데이터 재배열 (Time step)\n",
        "X_train_rnn = X_train.A.reshape((X_train.shape[0], 1, X_train.shape[1]))\n",
        "X_test_rnn = X_test.A.reshape((X_test.shape[0], 1, X_test.shape[1]))\n",
        "\n",
        "print(X_train_rnn.shape)\n",
        "print(X_test_rnn.shape)"
      ],
      "execution_count": null,
      "outputs": []
    },
    {
      "cell_type": "code",
      "metadata": {
        "id": "m_yPDRa0PO1z"
      },
      "source": [
        "from tensorflow.keras.models import Sequential\n",
        "from tensorflow.keras.layers import Dense, Dropout, LSTM\n",
        "\n",
        "def build_LSTM_model():\n",
        "    model = Sequential()\n",
        "    model.add(LSTM(128, input_shape=(X_train_rnn.shape[1], X_train_rnn.shape[2]), return_sequences=True))\n",
        "    model.add(Activation('relu'))\n",
        "    model.add(Dropout(0.2))\n",
        "    model.add(LSTM(128))\n",
        "    model.add(Dropout(0.2))\n",
        "    model.add(Dense(1, activation='sigmoid'))\n",
        "    model.compile(loss='binary_crossentropy', optimizer='adam', metrics=['accuracy'])\n",
        "    return model"
      ],
      "execution_count": null,
      "outputs": []
    },
    {
      "cell_type": "code",
      "metadata": {
        "id": "LzZ0Jpc0PO13",
        "scrolled": false
      },
      "source": [
        "model_lstm = KerasClassifier(build_fn=build_LSTM_model,\n",
        "                             epochs=nb_epoch,\n",
        "                             batch_size=batch_size)\n",
        "model_lstm.fit(X_train_rnn, y_train)"
      ],
      "execution_count": null,
      "outputs": []
    },
    {
      "cell_type": "code",
      "metadata": {
        "id": "9EzWAnPvPO16"
      },
      "source": [
        "y_pred = model_lstm.predict(X_train_rnn)\n",
        "metrics.accuracy_score(y_train, y_pred)"
      ],
      "execution_count": null,
      "outputs": []
    },
    {
      "cell_type": "code",
      "metadata": {
        "id": "F-kT9Gl1KXDm"
      },
      "source": [
        "y_pred = model_lstm.predict(X_test_rnn)\n",
        "metrics.accuracy_score(y_test, y_pred)"
      ],
      "execution_count": null,
      "outputs": []
    },
    {
      "cell_type": "markdown",
      "metadata": {
        "id": "z4v5gvxOL-9a"
      },
      "source": [
        "# 참고사항"
      ]
    },
    {
      "cell_type": "markdown",
      "metadata": {
        "id": "hR6pFxYPLx9j"
      },
      "source": [
        "### Pickling:\n",
        "-“Pickling” is the process whereby a Python object hierarchy is converted into a byte stream, and “unpickling” is the inverse operation, whereby a byte stream (from a binary file or bytes-like object) is converted back into an object hierarchy.\n",
        "- Pickling (and unpickling) is alternatively known as “serialization”, “marshalling,” or “flattening”; however, to avoid confusion, the terms “pickling” and “unpickling” are being mostly used."
      ]
    },
    {
      "cell_type": "markdown",
      "metadata": {
        "id": "TuSvUnE1L7Bb"
      },
      "source": [
        "- Comparison with json\n",
        "  - There are fundamental differences between the pickle protocols and JSON (JavaScript Object Notation):\n",
        "\n",
        "  - JSON is a text serialization format (it outputs unicode text, although most of the time it is then encoded to utf-8), while pickle is a binary serialization format;\n",
        "  - JSON is human-readable, while pickle is not;\n",
        "  - JSON is interoperable and widely used outside of the Python ecosystem, while pickle is Python-specific;\n",
        "  - JSON, by default, can only represent a subset of the Python built-in types, and no custom classes; pickle can represent an extremely large number of Python types (many of them automatically, by clever usage of Python’s introspection facilities; complex cases can be tackled by implementing specific object APIs);\n",
        "  - Unlike pickle, deserializing untrusted JSON does not in itself create an arbitrary code execution vulnerability."
      ]
    }
  ]
}